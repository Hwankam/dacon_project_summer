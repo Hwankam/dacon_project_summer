{
 "cells": [
  {
   "cell_type": "code",
   "execution_count": 1582,
   "id": "3c6d3851",
   "metadata": {},
   "outputs": [],
   "source": [
    "##모듈 불러오기\n",
    "\n",
    "import pandas as pd\n",
    "import numpy as np\n",
    "import datetime as dt\n",
    "import sklearn\n",
    "\n",
    "import seaborn as sns\n",
    "# from pycaret.regression import*\n",
    "import matplotlib.pyplot as plt\n",
    "# from tqdm.notebook import tqdm\n",
    "\n",
    "import warnings\n",
    "warnings.filterwarnings(\"ignore\")"
   ]
  },
  {
   "cell_type": "code",
   "execution_count": 1583,
   "id": "871c932c",
   "metadata": {},
   "outputs": [
    {
     "data": {
      "text/plain": [
       "'/Users/admin/PycharmProjects/pythonProject'"
      ]
     },
     "execution_count": 1583,
     "metadata": {},
     "output_type": "execute_result"
    }
   ],
   "source": [
    "import os\n",
    "os.getcwd()"
   ]
  },
  {
   "cell_type": "code",
   "execution_count": 1584,
   "id": "783bfc91",
   "metadata": {},
   "outputs": [],
   "source": [
    "#한글폰트 해결하기\n",
    "\n",
    "from matplotlib import font_manager, rc\n",
    "\n",
    "font_path = './malgun.ttf'\n",
    "font_name = font_manager.FontProperties(fname=font_path).get_name()\n",
    "rc('font', family=font_name)"
   ]
  },
  {
   "cell_type": "code",
   "execution_count": 1585,
   "id": "55db572b",
   "metadata": {},
   "outputs": [],
   "source": [
    "#seaborn 한글폰트 해결하기\n",
    "sns.set(font=\"AppleGothic\", \n",
    "        rc={\"axes.unicode_minus\":False},\n",
    "        style='darkgrid')"
   ]
  },
  {
   "cell_type": "code",
   "execution_count": 1586,
   "id": "881342a5",
   "metadata": {},
   "outputs": [
    {
     "name": "stdout",
     "output_type": "stream",
     "text": [
      "<class 'pandas.core.frame.DataFrame'>\n",
      "RangeIndex: 1205 entries, 0 to 1204\n",
      "Data columns (total 12 columns):\n",
      " #   Column          Non-Null Count  Dtype  \n",
      "---  ------          --------------  -----  \n",
      " 0   일자              1205 non-null   object \n",
      " 1   요일              1205 non-null   object \n",
      " 2   본사정원수           1205 non-null   int64  \n",
      " 3   본사휴가자수          1205 non-null   int64  \n",
      " 4   본사출장자수          1205 non-null   int64  \n",
      " 5   본사시간외근무명령서승인건수  1205 non-null   int64  \n",
      " 6   현본사소속재택근무자수     1205 non-null   float64\n",
      " 7   조식메뉴            1205 non-null   object \n",
      " 8   중식메뉴            1205 non-null   object \n",
      " 9   석식메뉴            1205 non-null   object \n",
      " 10  중식계             1205 non-null   float64\n",
      " 11  석식계             1205 non-null   float64\n",
      "dtypes: float64(3), int64(4), object(5)\n",
      "memory usage: 113.1+ KB\n",
      "<class 'pandas.core.frame.DataFrame'>\n",
      "RangeIndex: 50 entries, 0 to 49\n",
      "Data columns (total 10 columns):\n",
      " #   Column          Non-Null Count  Dtype  \n",
      "---  ------          --------------  -----  \n",
      " 0   일자              50 non-null     object \n",
      " 1   요일              50 non-null     object \n",
      " 2   본사정원수           50 non-null     int64  \n",
      " 3   본사휴가자수          50 non-null     int64  \n",
      " 4   본사출장자수          50 non-null     int64  \n",
      " 5   본사시간외근무명령서승인건수  50 non-null     int64  \n",
      " 6   현본사소속재택근무자수     50 non-null     float64\n",
      " 7   조식메뉴            50 non-null     object \n",
      " 8   중식메뉴            50 non-null     object \n",
      " 9   석식메뉴            50 non-null     object \n",
      "dtypes: float64(1), int64(4), object(5)\n",
      "memory usage: 4.0+ KB\n"
     ]
    }
   ],
   "source": [
    "## 데이터 로드 및 변환 및 feature 생성\n",
    "\n",
    "train = pd.read_csv('./train.csv')\n",
    "test = pd.read_csv('./test.csv')\n",
    "train.info()\n",
    "test.info()\n",
    "\n",
    "train['일자'] = pd.to_datetime(train['일자'])\n",
    "test['일자'] = pd.to_datetime(test['일자'])\n",
    "\n",
    "train[['현본사소속재택근무자수', '중식계', '석식계']] = train[['현본사소속재택근무자수', '중식계', '석식계']].astype('int')\n",
    "test['현본사소속재택근무자수'] = test['현본사소속재택근무자수'].astype('int')"
   ]
  },
  {
   "cell_type": "code",
   "execution_count": 1587,
   "id": "dd7e71bd",
   "metadata": {
    "scrolled": true
   },
   "outputs": [],
   "source": [
    "# Feature extraction\n",
    "\n",
    "\n",
    "# train\n",
    "train['년'] = train['일자'].dt.year\n",
    "train['월'] = train['일자'].dt.month\n",
    "train['일'] = train['일자'].dt.day\n",
    "train['주'] = train['일자'].dt.week\n",
    "train['요일'] = train['일자'].dt.weekday\n",
    "train['출근'] = train['본사정원수'] - (train['본사휴가자수'] + train['본사출장자수'] + train['현본사소속재택근무자수'])\n",
    "train['휴가비율'] = train['본사휴가자수'] / train['본사정원수']\n",
    "train['출장비율'] = train['본사출장자수'] / train['본사정원수']\n",
    "train['야근비율'] = train['본사시간외근무명령서승인건수'] / train['출근']\n",
    "train['재택비율'] = train['현본사소속재택근무자수'] / train['본사정원수']\n",
    "train['출장휴가재택비율'] = train['출장비율'] + train['휴가비율'] + train['재택비율']\n",
    "\n",
    "# test\n",
    "test['년'] = test['일자'].dt.year\n",
    "test['월'] = test['일자'].dt.month\n",
    "test['일'] = test['일자'].dt.day\n",
    "test['주'] = test['일자'].dt.week\n",
    "test['요일'] = test['일자'].dt.weekday\n",
    "test['출근'] = test['본사정원수'] - (test['본사휴가자수'] + test['본사출장자수'] + test['현본사소속재택근무자수'])\n",
    "test['휴가비율'] = test['본사휴가자수'] / test['본사정원수']\n",
    "test['출장비율'] = test['본사출장자수'] / test['본사정원수']\n",
    "test['야근비율'] = test['본사시간외근무명령서승인건수'] / test['출근']\n",
    "test['재택비율'] = test['현본사소속재택근무자수'] / test['본사정원수']\n",
    "test['출장휴가재택비율'] = test['출장비율'] + test['휴가비율'] + test['재택비율']\n"
   ]
  },
  {
   "cell_type": "code",
   "execution_count": 1588,
   "id": "0bb6d97b",
   "metadata": {},
   "outputs": [
    {
     "data": {
      "text/plain": [
       "3    244\n",
       "4    242\n",
       "0    240\n",
       "1    240\n",
       "2    239\n",
       "Name: 요일, dtype: int64"
      ]
     },
     "execution_count": 1588,
     "metadata": {},
     "output_type": "execute_result"
    }
   ],
   "source": [
    "# 요일 분포 보기\n",
    "train['요일'].value_counts()"
   ]
  },
  {
   "cell_type": "code",
   "execution_count": 1589,
   "id": "df051656",
   "metadata": {},
   "outputs": [
    {
     "data": {
      "text/plain": [
       "2    11\n",
       "3    10\n",
       "4    10\n",
       "1    10\n",
       "0     9\n",
       "Name: 요일, dtype: int64"
      ]
     },
     "execution_count": 1589,
     "metadata": {},
     "output_type": "execute_result"
    }
   ],
   "source": [
    "test['요일'].value_counts()"
   ]
  },
  {
   "cell_type": "code",
   "execution_count": 1590,
   "id": "0516c37a",
   "metadata": {},
   "outputs": [
    {
     "data": {
      "image/png": "[encoded data removed]",
      "text/plain": [
       "<Figure size 432x288 with 2 Axes>"
      ]
     },
     "metadata": {},
     "output_type": "display_data"
    }
   ],
   "source": [
    "# 식수인원 plot\n",
    "\n",
    "plt.subplot(1,2,1)\n",
    "plt.plot(train['일자'], train['중식계'])\n",
    "\n",
    "plt.subplot(1,2,2)\n",
    "plt.plot(train['일자'], train['석식계'])\n",
    "\n",
    "plt.show()"
   ]
  },
  {
   "cell_type": "code",
   "execution_count": 1591,
   "id": "bf893ba0",
   "metadata": {},
   "outputs": [
    {
     "data": {
      "image/png": "[encoded data removed]",
      "text/plain": [
       "<Figure size 432x288 with 1 Axes>"
      ]
     },
     "metadata": {},
     "output_type": "display_data"
    }
   ],
   "source": [
    "plt.plot(train['일자'], train['중식계'])\n",
    "plt.plot(train['일자'], train['석식계'])\n",
    "\n",
    "plt.show()\n",
    "\n",
    "\n",
    "## 중식인원과 석식인원 사이에 확연한 차이가 있다는 것을 알 수 있다. 모델을 다르게 설정해야함"
   ]
  },
  {
   "cell_type": "code",
   "execution_count": 1592,
   "id": "a49b3aa2",
   "metadata": {},
   "outputs": [],
   "source": [
    "# 외부데이터 가지고 오기\n",
    "\n",
    "# 기상데이터 가지고 오기(12시에 비 온 데이터 one_hot encoding)(비가 오면 아무래도 사람들이 밖에나가서 밥을 먹기보다는 구내식당에서 밥을 먹을 가능성이 높다는 가정)\n",
    "\n",
    "rain_train = pd.read_csv(\"./rain_train.csv\")\n",
    "\n",
    "rain_train['날짜'] = pd.to_datetime(rain_train['일시'])\n",
    "rain_train['년'] = rain_train['날짜'].dt.year\n",
    "rain_train['월'] = rain_train['날짜'].dt.month\n",
    "rain_train['일'] = rain_train['날짜'].dt.day\n",
    "rain_train['시간'] = rain_train['날짜'].dt.hour\n",
    "\n",
    "rain_train['TF'] = np.where((rain_train['시간']==12) & (rain_train.iloc[:,3]>=3),1,0)\n",
    "\n",
    "rain_12 = rain_train[(rain_train['시간']==12)].loc[:, ['년', '월', '일', 'TF']]\n",
    "\n",
    "train_rain = pd.merge(train, rain_12, on=['년', '월', '일'], how='left')\n",
    "\n",
    "train_rain.rename(columns={\"TF_x\":\"TF\"}, inplace=True)\n",
    "train = train_rain\n",
    "\n",
    "# test 데이터 기상데이터 one_hot encoding\n",
    "rain_test = pd.read_csv(\"./rain_test.csv\")\n",
    "rain_test\n",
    "rain_test['날짜'] = pd.to_datetime(rain_test['일시'])\n",
    "rain_test['년'] = rain_test['날짜'].dt.year\n",
    "rain_test['월'] = rain_test['날짜'].dt.month\n",
    "rain_test['일'] = rain_test['날짜'].dt.day\n",
    "rain_test['시간'] = rain_test['날짜'].dt.hour\n",
    "\n",
    "\n",
    "rain_test['TF'] = np.where((rain_test['시간']==12) & (rain_test.iloc[:,3]>=3),1,0)\n",
    "\n",
    "rain_12 = rain_test[(rain_test['시간']==12)].loc[:, ['년', '월', '일', 'TF']]\n",
    "\n",
    "test_rain = pd.merge(test, rain_12, on=['년', '월', '일'], how='left')\n",
    "\n",
    "test_rain.rename(columns={\"TF_x\":\"TF\"}, inplace=True)\n",
    "test = test_rain\n"
   ]
  },
  {
   "cell_type": "code",
   "execution_count": 1593,
   "id": "63036c43",
   "metadata": {
    "scrolled": false
   },
   "outputs": [
    {
     "data": {
      "text/plain": [
       "Index(['일자', '요일', '본사정원수', '본사휴가자수', '본사출장자수', '본사시간외근무명령서승인건수',\n",
       "       '현본사소속재택근무자수', '조식메뉴', '중식메뉴', '석식메뉴', '중식계', '석식계', '년', '월', '일', '주',\n",
       "       '출근', '휴가비율', '출장비율', '야근비율', '재택비율', '출장휴가재택비율', 'TF'],\n",
       "      dtype='object')"
      ]
     },
     "execution_count": 1593,
     "metadata": {},
     "output_type": "execute_result"
    }
   ],
   "source": [
    "train.columns"
   ]
  },
  {
   "cell_type": "code",
   "execution_count": 1594,
   "id": "619e0ae8",
   "metadata": {
    "scrolled": true
   },
   "outputs": [],
   "source": [
    "# 외부데이터 가지고 오기\n",
    "\n",
    "# 온도 데이터 불러오기\n",
    "\n",
    "temp = pd.read_csv(\"./highest_temp.csv\")\n",
    "temp['날짜'] = pd.to_datetime(temp['날짜'])\n",
    "temp['년'] = temp['날짜'].dt.year\n",
    "temp['월'] = temp['날짜'].dt.month\n",
    "temp['일'] = temp['날짜'].dt.day\n",
    "\n",
    "temp_train = temp[['년', '월', '일', '최고기온(℃)']]\n",
    "temp_train.rename(columns={'최고기온(℃)':'최고기온'}, inplace = True)\n",
    "train_temp = pd.merge(train, temp_train, on=['년', '월', '일'], how='left')\n",
    "train = train_temp\n",
    "\n",
    "\n",
    "temp = pd.read_csv(\"./highest_temp.csv\")\n",
    "temp['날짜'] = pd.to_datetime(temp['날짜'])\n",
    "temp['년'] = temp['날짜'].dt.year\n",
    "temp['월'] = temp['날짜'].dt.month\n",
    "temp['일'] = temp['날짜'].dt.day\n",
    "\n",
    "temp_test = temp[['년', '월', '일', '최고기온(℃)']]\n",
    "temp_test.rename(columns={'최고기온(℃)':'최고기온'}, inplace = True)\n",
    "\n",
    "test_temp = pd.merge(test, temp_test, on=['년', '월', '일'], how='left')\n",
    "test = test_temp"
   ]
  },
  {
   "cell_type": "code",
   "execution_count": 1595,
   "id": "774d0a63",
   "metadata": {},
   "outputs": [],
   "source": [
    "# 야근에 대한 정보 추출"
   ]
  },
  {
   "cell_type": "code",
   "execution_count": 1596,
   "id": "4e810f4c",
   "metadata": {},
   "outputs": [
    {
     "data": {
      "text/plain": [
       "[<matplotlib.lines.Line2D at 0x7fcd18aa64f0>]"
      ]
     },
     "execution_count": 1596,
     "metadata": {},
     "output_type": "execute_result"
    },
    {
     "data": {
      "image/png": "[encoded data removed]",
      "text/plain": [
       "<Figure size 432x576 with 1 Axes>"
      ]
     },
     "metadata": {},
     "output_type": "display_data"
    }
   ],
   "source": [
    "plt.figure(figsize=(6,8))\n",
    "plt.plot(train['일자'],train['야근비율'])"
   ]
  },
  {
   "cell_type": "code",
   "execution_count": 1597,
   "id": "fda62679",
   "metadata": {},
   "outputs": [
    {
     "data": {
      "image/png": "[encoded data removed]",
      "text/plain": [
       "<Figure size 864x1152 with 5 Axes>"
      ]
     },
     "metadata": {},
     "output_type": "display_data"
    }
   ],
   "source": [
    "plt.figure(figsize = (12,16))\n",
    "\n",
    "train1 = train[train['요일']==0]\n",
    "plt.subplot(5,1,1)\n",
    "plt.plot(train1['일자'],train1['본사시간외근무명령서승인건수'])\n",
    "\n",
    "\n",
    "train1 = train[train['요일']==1]\n",
    "plt.subplot(5,1,2)\n",
    "plt.plot(train1['일자'],train1['본사시간외근무명령서승인건수'])\n",
    "\n",
    "\n",
    "train1 = train[train['요일']==2]\n",
    "plt.subplot(5,1,3)\n",
    "plt.plot(train1['일자'],train1['본사시간외근무명령서승인건수'])\n",
    "\n",
    "train1 = train[train['요일']==3]\n",
    "plt.subplot(5,1,4)\n",
    "plt.plot(train1['일자'],train1['본사시간외근무명령서승인건수'])\n",
    "\n",
    "train1 = train[train['요일']==4]\n",
    "plt.subplot(5,1,5)\n",
    "plt.plot(train1['일자'],train1['본사시간외근무명령서승인건수'])\n",
    "plt.show()"
   ]
  },
  {
   "cell_type": "markdown",
   "id": "19ba89fb",
   "metadata": {},
   "source": [
    "2019년부터 금요일 야근이 확 줄었다.\n",
    "또한 금요일 그래프에서 아주 극단적인 수치가 나타는데 이를 처리해줘야 할 것."
   ]
  },
  {
   "cell_type": "code",
   "execution_count": 1598,
   "id": "4f8a8dba",
   "metadata": {},
   "outputs": [],
   "source": [
    "# 2019년부터 금요일 야근이 확 줄었다.\n",
    "\n",
    "\n",
    "train['overwork'] = np.where((train['년'] >= 2019) & (train['요일'] == 4),1,0)\n",
    "train_overwork = train.loc[:, ['년', '월', '일', 'overwork']]\n",
    "train_overwork1 = pd.merge(train, train_overwork, on=['년', '월', '일'], how='left')\n",
    "train_overwork1.rename(columns={\"overwork_x\":\"overwork\"}, inplace=True)\n",
    "train = train_overwork1.iloc[:,0:-1]\n",
    "\n",
    "\n",
    "test['overwork'] = np.where((test['년'] >= 2019) & (test['요일'] == 4),1,0)\n",
    "test_overwork = test.loc[:, ['년', '월', '일', 'overwork']]\n",
    "test_overwork1 = pd.merge(test, test_overwork, on=['년', '월', '일'], how='left')\n",
    "test_overwork1.rename(columns={\"overwork_x\":\"overwork\"}, inplace=True)\n",
    "test = test_overwork1.iloc[:,0:-1]\n"
   ]
  },
  {
   "cell_type": "code",
   "execution_count": 1599,
   "id": "46e4fd0e",
   "metadata": {},
   "outputs": [
    {
     "data": {
      "text/html": [
       "<div>\n",
       "<style scoped>\n",
       "    .dataframe tbody tr th:only-of-type {\n",
       "        vertical-align: middle;\n",
       "    }\n",
       "\n",
       "    .dataframe tbody tr th {\n",
       "        vertical-align: top;\n",
       "    }\n",
       "\n",
       "    .dataframe thead th {\n",
       "        text-align: right;\n",
       "    }\n",
       "</style>\n",
       "<table border=\"1\" class=\"dataframe\">\n",
       "  <thead>\n",
       "    <tr style=\"text-align: right;\">\n",
       "      <th></th>\n",
       "      <th>일자</th>\n",
       "      <th>요일</th>\n",
       "      <th>본사정원수</th>\n",
       "      <th>본사휴가자수</th>\n",
       "      <th>본사출장자수</th>\n",
       "      <th>본사시간외근무명령서승인건수</th>\n",
       "      <th>현본사소속재택근무자수</th>\n",
       "      <th>조식메뉴</th>\n",
       "      <th>중식메뉴</th>\n",
       "      <th>석식메뉴</th>\n",
       "      <th>...</th>\n",
       "      <th>주</th>\n",
       "      <th>출근</th>\n",
       "      <th>휴가비율</th>\n",
       "      <th>출장비율</th>\n",
       "      <th>야근비율</th>\n",
       "      <th>재택비율</th>\n",
       "      <th>출장휴가재택비율</th>\n",
       "      <th>TF</th>\n",
       "      <th>최고기온</th>\n",
       "      <th>overwork</th>\n",
       "    </tr>\n",
       "  </thead>\n",
       "  <tbody>\n",
       "    <tr>\n",
       "      <th>895</th>\n",
       "      <td>2019-10-04</td>\n",
       "      <td>4</td>\n",
       "      <td>3121</td>\n",
       "      <td>268</td>\n",
       "      <td>231</td>\n",
       "      <td>428</td>\n",
       "      <td>0</td>\n",
       "      <td>모닝롤/치즈프레즐  우유/주스 계란후라이 홍게살죽/쌀밥 (쌀:국내산) 황태국  쥐포...</td>\n",
       "      <td>쌀밥/잡곡밥 (쌀:국내산) 해물된장찌개  소불고기  두부양념조림  미역레몬초무침  ...</td>\n",
       "      <td>쌀밥/잡곡밥 (쌀:국내산) 순두부찌개  함박스테이크  계란찜  콩나물무침  포기김치...</td>\n",
       "      <td>...</td>\n",
       "      <td>40</td>\n",
       "      <td>2622</td>\n",
       "      <td>0.08587</td>\n",
       "      <td>0.074015</td>\n",
       "      <td>0.163234</td>\n",
       "      <td>0.0</td>\n",
       "      <td>0.159885</td>\n",
       "      <td>NaN</td>\n",
       "      <td>27.6</td>\n",
       "      <td>1</td>\n",
       "    </tr>\n",
       "  </tbody>\n",
       "</table>\n",
       "<p>1 rows × 25 columns</p>\n",
       "</div>"
      ],
      "text/plain": [
       "            일자  요일  본사정원수  본사휴가자수  본사출장자수  본사시간외근무명령서승인건수  현본사소속재택근무자수  \\\n",
       "895 2019-10-04   4   3121     268     231             428            0   \n",
       "\n",
       "                                                  조식메뉴  \\\n",
       "895  모닝롤/치즈프레즐  우유/주스 계란후라이 홍게살죽/쌀밥 (쌀:국내산) 황태국  쥐포...   \n",
       "\n",
       "                                                  중식메뉴  \\\n",
       "895  쌀밥/잡곡밥 (쌀:국내산) 해물된장찌개  소불고기  두부양념조림  미역레몬초무침  ...   \n",
       "\n",
       "                                                  석식메뉴  ...   주    출근  \\\n",
       "895  쌀밥/잡곡밥 (쌀:국내산) 순두부찌개  함박스테이크  계란찜  콩나물무침  포기김치...  ...  40  2622   \n",
       "\n",
       "        휴가비율      출장비율      야근비율  재택비율  출장휴가재택비율  TF  최고기온  overwork  \n",
       "895  0.08587  0.074015  0.163234   0.0  0.159885 NaN  27.6         1  \n",
       "\n",
       "[1 rows x 25 columns]"
      ]
     },
     "execution_count": 1599,
     "metadata": {},
     "output_type": "execute_result"
    }
   ],
   "source": [
    "train[(train['요일']==4) & (train['본사시간외근무명령서승인건수']>300)]\n",
    "# 금요일 300명 이상이 야근 승인을 받은 것은 매우 특이한 케이스이므로 이를 어떻게 처리해야 할지 생각해야 할 것."
   ]
  },
  {
   "cell_type": "code",
   "execution_count": null,
   "id": "69da82b3",
   "metadata": {},
   "outputs": [],
   "source": []
  },
  {
   "cell_type": "code",
   "execution_count": 1600,
   "id": "327858f9",
   "metadata": {},
   "outputs": [],
   "source": [
    "# 코로나 상황 고려\n",
    "# 2020년 02월 27일부로 재택근무가 시작되었다.\n",
    "\n",
    "train['home'] = np.where((train['일자'] >= \"2020-02-26\"),1,0)\n",
    "train_home = train.loc[:, ['년', '월', '일', 'home']]\n",
    "train_home1 = pd.merge(train, train_home, on=['년', '월', '일'], how='left')\n",
    "train_home1.rename(columns={'home_x':'home'},inplace=True)\n",
    "train = train_home1.iloc[:,:-1]\n",
    "\n",
    "test['home'] = 1"
   ]
  },
  {
   "cell_type": "code",
   "execution_count": 1601,
   "id": "323888ee",
   "metadata": {},
   "outputs": [],
   "source": [
    "# 단순 반복 작업 (공휴일 전후, 전전, 후후, 퐁당퐁당 공휴일 변수화하기)\n",
    "\n",
    "## 공휴일 전/후 데이터 추가 연휴 바로 전 평일 1 / 휴일 다음 날 평일 2 / 휴일 다음다음날3 / 휴일 전전날 4 / 퐁당퐁당 5\n",
    "\n",
    "train['공휴일전후'] = 0\n",
    "test['공휴일전후'] = 0\n",
    "train['공휴일전후'][4] = 1\n",
    "train['공휴일전후'][5] = 2\n",
    "train['공휴일전후'][6] = 3\n",
    "train['공휴일전후'][17] = 5\n",
    "train['공휴일전후'][18] = 2\n",
    "train['공휴일전후'][47] = 1\n",
    "train['공휴일전후'][48] = 2\n",
    "train['공휴일전후'][62] = 1\n",
    "train['공휴일전후'][63] = 2\n",
    "train['공휴일전후'][82] = 1\n",
    "train['공휴일전후'][83] = 2\n",
    "train['공휴일전후'][131] = 1\n",
    "train['공휴일전후'][132] = 2\n",
    "train['공휴일전후'][151] = 4\n",
    "train['공휴일전후'][152] = 1\n",
    "train['공휴일전후'][153] = 2\n",
    "train['공휴일전후'][162] = 1\n",
    "train['공휴일전후'][163] = 2\n",
    "train['공휴일전후'][244] = 4\n",
    "train['공휴일전후'][245] = 1\n",
    "train['공휴일전후'][246] = 2\n",
    "train['공휴일전후'][247] = 3\n",
    "train['공휴일전후'][266] = 1\n",
    "train['공휴일전후'][267] = 2\n",
    "train['공휴일전후'][308] = 4\n",
    "train['공휴일전후'][309] = 1\n",
    "train['공휴일전후'][310] = 5\n",
    "train['공휴일전후'][311] = 5\n",
    "train['공휴일전후'][312] = 2\n",
    "train['공휴일전후'][330] = 5\n",
    "train['공휴일전후'][331] = 2\n",
    "train['공휴일전후'][379] = 5\n",
    "train['공휴일전후'][380] = 2\n",
    "train['공휴일전후'][411] = 4\n",
    "train['공휴일전후'][412] = 1\n",
    "train['공휴일전후'][413] = 2\n",
    "train['공휴일전후'][414] = 3\n",
    "train['공휴일전후'][466] = 1\n",
    "train['공휴일전후'][467] = 2\n",
    "train['공휴일전후'][470] = 1\n",
    "train['공휴일전후'][471] = 2\n",
    "train['공휴일전후'][501] = 4\n",
    "train['공휴일전후'][502] = 1\n",
    "train['공휴일전후'][503] = 2\n",
    "train['공휴일전후'][510] = 1\n",
    "train['공휴일전후'][511] = 5\n",
    "train['공휴일전후'][555] = 1\n",
    "train['공휴일전후'][556] = 2\n",
    "train['공휴일전후'][565] = 5\n",
    "train['공휴일전후'][566] = 2\n",
    "train['공휴일전후'][575] = 1\n",
    "train['공휴일전후'][576] = 2\n",
    "train['공휴일전후'][579] = 1\n",
    "train['공휴일전후'][580] = 2\n",
    "train['공휴일전후'][623] = 1\n",
    "train['공휴일전후'][624] = 2\n",
    "train['공휴일전후'][650] = 1\n",
    "train['공휴일전후'][651] = 5\n",
    "train['공휴일전후'][652] = 2\n",
    "train['공휴일전후'][653] = 3\n",
    "train['공휴일전후'][705] = 5\n",
    "train['공휴일전후'][706] = 2\n",
    "train['공휴일전후'][709] = 5\n",
    "train['공휴일전후'][710] = 2\n",
    "train['공휴일전후'][732] = 1\n",
    "train['공휴일전후'][733] = 2\n",
    "train['공휴일전후'][734] = 1\n",
    "train['공휴일전후'][748] = 1\n",
    "train['공휴일전후'][749] = 2\n",
    "train['공휴일전후'][791] = 2\n",
    "train['공휴일전후'][792] = 1\n",
    "train['공휴일전후'][793] = 2\n",
    "train['공휴일전후'][814] = 4\n",
    "train['공휴일전후'][815] = 5\n",
    "train['공휴일전후'][862] = 4\n",
    "train['공휴일전후'][864] = 5\n",
    "train['공휴일전후'][881] = 4\n",
    "train['공휴일전후'][882] = 1\n",
    "train['공휴일전후'][883] = 2\n",
    "train['공휴일전후'][897] = 1\n",
    "\n",
    "train['공휴일전후'][950] = 4\n",
    "train['공휴일전후'][951] = 1\n",
    "train['공휴일전후'][952] = 2\n",
    "train['공휴일전후'][955] = 1\n",
    "train['공휴일전후'][956] = 2\n",
    "train['공휴일전후'][970] = 4\n",
    "train['공휴일전후'][971] = 1\n",
    "train['공휴일전후'][972] = 2\n",
    "train['공휴일전후'][973] = 3\n",
    "train['공휴일전후'][1027] = 1\n",
    "train['공휴일전후'][1028] = 2\n",
    "train['공휴일전후'][1036] = 4\n",
    "train['공휴일전후'][1037] = 1\n",
    "train['공휴일전후'][1038] = 5\n",
    "train['공휴일전후'][1039] = 2\n",
    "train['공휴일전후'][1099] = 1\n",
    "train['공휴일전후'][1100] = 2\n",
    "train['공휴일전후'][1029] = 1\n",
    "train['공휴일전후'][1030] = 2\n",
    "train['공휴일전후'][1129] = 4\n",
    "train['공휴일전후'][1133] = 1\n",
    "train['공휴일전후'][1134] = 2\n",
    "train['공휴일전후'][1186] = 4\n",
    "train['공휴일전후'][1187] = 1\n",
    "train['공휴일전후'][1188] = 2\n",
    "test['공휴일전후'][9] = 4\n",
    "test['공휴일전후'][10] = 1\n",
    "test['공휴일전후'][11] = 2\n",
    "test['공휴일전후'][20] = 1\n",
    "test['공휴일전후'][21] = 2\n"
   ]
  },
  {
   "cell_type": "code",
   "execution_count": 1602,
   "id": "69d45183",
   "metadata": {},
   "outputs": [
    {
     "data": {
      "text/plain": [
       "array([0, 1, 2, 3, 5, 4])"
      ]
     },
     "execution_count": 1602,
     "metadata": {},
     "output_type": "execute_result"
    }
   ],
   "source": [
    "train['공휴일전후'].unique()"
   ]
  },
  {
   "cell_type": "code",
   "execution_count": 1603,
   "id": "1bfa7c8c",
   "metadata": {},
   "outputs": [],
   "source": [
    "a = train[train['공휴일전후']==0].loc[:,'중식계'].mean()\n",
    "b = train[train['공휴일전후']==1].loc[:,'중식계'].mean()\n",
    "c = train[train['공휴일전후']==2].loc[:,'중식계'].mean()\n",
    "d = train[train['공휴일전후']==3].loc[:,'중식계'].mean()\n",
    "e = train[train['공휴일전후']==4].loc[:,'중식계'].mean()\n",
    "f = train[train['공휴일전후']==5].loc[:,'중식계'].mean()"
   ]
  },
  {
   "cell_type": "code",
   "execution_count": 1604,
   "id": "bd0969ff",
   "metadata": {},
   "outputs": [
    {
     "name": "stdout",
     "output_type": "stream",
     "text": [
      "휴일을 공휴하지 않는 날의 중식계 평균은 892.1845454545454 이고 연휴 전날의 중식계 평균은 746.1428571428571, 연휴 다음날은 1092.2564102564102, 연휴 다음다음날은 1137.2, 연휴 전전날은 740.1538461538462, 퐁당퐁당인 날은 571.4615384615385\n"
     ]
    }
   ],
   "source": [
    "print( f'휴일을 공휴하지 않는 날의 중식계 평균은 {a} 이고 연휴 전날의 중식계 평균은 {b}, 연휴 다음날은 {c}, 연휴 다음다음날은 {d}, 연휴 전전날은 {e}, 퐁당퐁당인 날은 {f}') "
   ]
  },
  {
   "cell_type": "markdown",
   "id": "a74d6761",
   "metadata": {},
   "source": [
    "즉, 연휴 전날에는 휴가를 쓰는 직원들이 많고 이에 따라 식수 인원이 줄어드는 경우가 많다. 반대로 연휴가 끝나고 난 직후에는 직원들이 중식당을 평균적으로 많이 찾는다. 특히 퐁당으로 휴일과 휴일 사이에 평일이 하루 끼어있는 경우에는 중식계 평균인원이 급격하게 줄어드는 양상을 보인다."
   ]
  },
  {
   "cell_type": "code",
   "execution_count": 1605,
   "id": "c12649ea",
   "metadata": {},
   "outputs": [],
   "source": [
    "# 코로나로 인해 경각심을 가지는 시기 (20년 2말 / 20년 8말 / 20년 12월 1월초) #코로나 확진자 수가 급증하며 확진자수에 대한 대중의 관심이 커지는 시점\n",
    "# mask_covid = (((train['년'] == 2020) & (train['월']==2) & (train['일'] >= 24)) |  ((train['년'] == 2020) & (train['월']==3) & (train['일'] <= 10)) | ((train['년'] == 2020) & (train['월']==8) & (train['일'] >= 24)) |  ((train['년'] == 2020) & (train['월']==9) & (train['일'] <= 10)) | ((train['년'] == 2020) & (train['월']==11) & (train['일'] >= 23)) |  ((train['년'] == 2020) & (train['월']==12) & (train['일'] <= 23))) | ((train['년'] == 2021) & (train['월']==1) & (train['일'] >=4))\n",
    "\n",
    "mask_covid = (((train['년'] == 2020) & (train['월'] == 2) & (train['일'] >= 24)) | (\n",
    "            (train['년'] == 2020) & (train['월'] == 3) & (train['일'] <= 10)) | (\n",
    "                          (train['년'] == 2020) & (train['월'] == 8) & (train['일'] >= 24)) | (\n",
    "                          (train['년'] == 2020) & (train['월'] == 9) & (train['일'] <= 10)) | (\n",
    "                          (train['년'] == 2020) & (train['월'] == 11) & (train['일'] >= 19)) | (\n",
    "                          (train['년'] == 2020) & (train['월'] == 12) & (train['일'] <= 24))) | (\n",
    "                         (train['년'] == 2021) & (train['월'] == 1) & (train['일'] >= 4))\n",
    "\n",
    "train_covid = train[mask_covid]\n",
    "train_covid\n",
    "train_covid['covid'] = 1\n",
    "train_covid = train_covid.loc[:, ['년', '월', '일', 'covid']]\n",
    "train_covid1 = pd.merge(train, train_covid, left_on=['년', '월', '일'], right_on=['년', '월', '일'], how='outer')\n",
    "train_covid1.dropna(subset=['요일'], axis=0, inplace=True)\n",
    "train_covid1['covid'].replace(np.nan, 0, inplace=True)\n",
    "train = train_covid1\n",
    "train\n",
    "\n",
    "test.columns\n",
    "\n",
    "mask_covid_t = (((test['년'] == 2021) & (test['월'] == 1) & (test['일'] >= 27)) & (\n",
    "            (test['년'] == 2021) & (test['월'] == 1) & (test['일'] <= 29))) | (\n",
    "                           ((test['년'] == 2021) & (test['월'] == 2) & (test['일'] >= 15)) & (\n",
    "                               (test['년'] == 2021) & (test['월'] == 2) & (test['일'] <= 23))) | (\n",
    "                           ((test['년'] == 2021) & (test['월'] == 4) & (test['일'] >= 6)) & (\n",
    "                               (test['년'] == 2021) & (test['월'] == 4) & (test['일'] <= 9)))\n",
    "\n",
    "test_covid = test[mask_covid_t]\n",
    "test_covid\n",
    "test_covid['covid'] = 1\n",
    "test_covid = test_covid.loc[:, ['년', '월', '일', 'covid']]\n",
    "test_covid1 = pd.merge(test, test_covid, left_on=['년', '월', '일'], right_on=['년', '월', '일'], how='outer')\n",
    "test_covid1.dropna(subset=['요일'], axis=0, inplace=True)\n",
    "test_covid1['covid'].replace(np.nan, 0, inplace=True)\n",
    "test = test_covid1\n",
    "\n"
   ]
  },
  {
   "cell_type": "code",
   "execution_count": 1606,
   "id": "bf186d7a",
   "metadata": {},
   "outputs": [],
   "source": [
    "# 과거 매달 마지막 주 수요일 문화의 날 행사 원핫인코딩 / test 데이터에서는 자기계발의 날이 없는것으로 보아 현재는 시행 안하는듯.\n",
    "\n",
    "train['culture'] = np.where(train['석식계'] == 0,1,0)\n",
    "train_culture = train.loc[:, ['년', '월', '일', 'culture']]\n",
    "train_culture1 = pd.merge(train, train_culture, on=['년', '월', '일'], how='left')\n",
    "train_culture1.rename(columns={'culture_x':'culture'},inplace=True)\n",
    "train = train_culture1.iloc[:,:-1]\n",
    "\n",
    "\n",
    "test['culture'] = 0"
   ]
  },
  {
   "cell_type": "code",
   "execution_count": 1607,
   "id": "09604fda",
   "metadata": {
    "scrolled": true
   },
   "outputs": [],
   "source": [
    "# 연말연초에는 약속이 많다\n",
    "\n",
    "mask_alcho = ((train['년'] == 2016) & (train['월'] == 12) & (train['일'] >= 22)) & (\n",
    "            (train['년'] == 2016) & (train['월'] == 12) & (train['일'] <= 31)) | (\n",
    "                         (train['년'] == 2017) & (train['월'] == 12) & (train['일'] >= 22)) & (\n",
    "                         (train['년'] == 2017) & (train['월'] == 12) & (train['일'] <= 31)) | (\n",
    "                         (train['년'] == 2018) & (train['월'] == 12) & (train['일'] >= 20)) & (\n",
    "                         (train['년'] == 2018) & (train['월'] == 12) & (train['일'] <= 31)) | (\n",
    "                         (train['년'] == 2019) & (train['월'] == 12) & (train['일'] >= 20)) & (\n",
    "                         (train['년'] == 2019) & (train['월'] == 12) & (train['일'] <= 31)) | (\n",
    "                         (train['년'] == 2020) & (train['월'] == 12) & (train['일'] >= 22)) & (\n",
    "                         (train['년'] == 2020) & (train['월'] == 12) & (train['일'] <= 31))\n",
    "\n",
    "train_alcho = train[mask_alcho]\n",
    "train_alcho['일자']\n",
    "train_alcho['alcho'] = 1\n",
    "train_alcho = train_alcho.loc[:, ['년', '월', '일', 'alcho']]\n",
    "train_alcho1 = pd.merge(train, train_alcho, left_on=['년', '월', '일'], right_on=['년', '월', '일'], how='outer')\n",
    "train_alcho1.dropna(subset=['요일'], axis=0, inplace=True)\n",
    "train_alcho1['alcho'].replace(np.nan, 0, inplace=True)\n",
    "train = train_alcho1\n",
    "train\n",
    "\n",
    "test['alcho'] = 0\n"
   ]
  },
  {
   "cell_type": "code",
   "execution_count": 1608,
   "id": "fb115938",
   "metadata": {},
   "outputs": [
    {
     "data": {
      "text/plain": [
       "(1205, 30)"
      ]
     },
     "execution_count": 1608,
     "metadata": {},
     "output_type": "execute_result"
    }
   ],
   "source": [
    "train.shape"
   ]
  },
  {
   "cell_type": "code",
   "execution_count": 1609,
   "id": "5f0d95f9",
   "metadata": {},
   "outputs": [],
   "source": [
    "# 서울시 코로나 확진자 데이터 가져오기\n",
    "\n",
    "covid = pd.read_csv(\"./covid.csv\")\n",
    "covid['확진일'] = pd.to_datetime(covid['확진일'])\n",
    "\n",
    "covid['확진자수'] = 1\n",
    "covid = covid[['확진일', '확진자수']]\n",
    "covid1 = covid.groupby(['확진일']).sum()\n",
    "covid1.reset_index(inplace=True)\n",
    "\n",
    "datee = pd.date_range('2016-02-01', '2021-04-09')\n",
    "datee = pd.DataFrame(datee)\n",
    "datee.rename(columns={0:'날짜'},inplace=True)\n",
    "covid2 = pd.merge(datee, covid1, left_on=['날짜'],right_on=['확진일'], how='left')\n",
    "\n",
    "\n",
    "\n",
    "covid3 = covid2[covid2['날짜'].notnull()]\n",
    "covid3['날짜'] = pd.to_datetime(covid3['날짜'])\n",
    "covid3['년'] = covid3['날짜'].dt.year\n",
    "covid3['월'] = covid3['날짜'].dt.month\n",
    "covid3['일'] = covid3['날짜'].dt.day\n",
    "covid3 = covid3[['년','월','일', '확진자수']]\n",
    "covid3['확진자수'].replace(np.nan, 0, inplace=True)\n",
    "\n",
    "train = pd.merge(train, covid3, on=['년', '월', '일'], how='left')\n",
    "train.rename(columns={'확진자수_x':'확진자수'},inplace=True)\n",
    "\n",
    "test = pd.merge(test, covid3, left_on=['년', '월', '일'], right_on=['년', '월', '일'], how='left')\n",
    "test.rename(columns={'확진자수_x':'확진자수'},inplace=True)\n"
   ]
  },
  {
   "cell_type": "markdown",
   "id": "22843480",
   "metadata": {},
   "source": [
    "## 데이터 transformation 및 스케일링"
   ]
  },
  {
   "cell_type": "code",
   "execution_count": 1610,
   "id": "155e11d8",
   "metadata": {},
   "outputs": [
    {
     "data": {
      "image/png": "[encoded data removed]",
      "text/plain": [
       "<Figure size 432x288 with 1 Axes>"
      ]
     },
     "metadata": {},
     "output_type": "display_data"
    }
   ],
   "source": [
    "plt.hist(train['확진자수'])\n",
    "plt.show()"
   ]
  },
  {
   "cell_type": "markdown",
   "id": "c18b1d1a",
   "metadata": {},
   "source": [
    "왜도가 크기 때문에, 확진자수 데이터에 대한 로그변환이 필요할듯."
   ]
  },
  {
   "cell_type": "code",
   "execution_count": 1611,
   "id": "c0635893",
   "metadata": {},
   "outputs": [],
   "source": [
    "#확진자수 로그변환\n",
    "\n",
    "train['확진자수_log'] = np.log1p(train['확진자수'])\n",
    "test['확진자수_log'] = np.log1p(test['확진자수'])"
   ]
  },
  {
   "cell_type": "code",
   "execution_count": 1612,
   "id": "65738cc0",
   "metadata": {},
   "outputs": [
    {
     "data": {
      "image/png": "[encoded data removed]",
      "text/plain": [
       "<Figure size 432x288 with 1 Axes>"
      ]
     },
     "metadata": {},
     "output_type": "display_data"
    }
   ],
   "source": [
    "plt.hist(train['확진자수_log'])\n",
    "plt.show()"
   ]
  },
  {
   "cell_type": "code",
   "execution_count": 1613,
   "id": "974210a9",
   "metadata": {},
   "outputs": [],
   "source": [
    "# 서울시 확진자수 minmaxscaler\n",
    "\n",
    "minmax = StandardScaler()\n",
    "total = np.array(train['확진자수_log'])\n",
    "total = total.reshape(-1, 1)\n",
    "minmax.fit(total)\n",
    "total = minmax.transform(total)\n",
    "total = pd.DataFrame(total, columns=['확진자수_log_scale'])\n",
    "train = pd.merge(train, total, left_index=True, right_index=True, how='left')\n",
    "\n",
    "total_test = np.array(test['확진자수_log'])\n",
    "total_test = total_test.reshape(-1, 1)\n",
    "total_test = minmax.transform(total_test)\n",
    "total_test = pd.DataFrame(total_test, columns=['확진자수_log_scale'])\n",
    "test = pd.merge(test, total_test, left_index=True, right_index=True, how='left')"
   ]
  },
  {
   "cell_type": "code",
   "execution_count": 1614,
   "id": "0fd2fa51",
   "metadata": {},
   "outputs": [
    {
     "data": {
      "image/png": "[encoded data removed]",
      "text/plain": [
       "<Figure size 432x288 with 1 Axes>"
      ]
     },
     "metadata": {},
     "output_type": "display_data"
    }
   ],
   "source": [
    "plt.plot(train['일자'], train['현본사소속재택근무자수'])\n",
    "plt.show()"
   ]
  },
  {
   "cell_type": "code",
   "execution_count": 1615,
   "id": "a78462b5",
   "metadata": {},
   "outputs": [],
   "source": [
    "# 현본사소속재택근무자수 minmax scale 하기 (0의 값이 매우 많기 때문에 standardscaler보다는 minmaxscaler를 쓰는게 낫다)\n",
    "\n",
    "from sklearn.preprocessing import MinMaxScaler\n",
    "\n",
    "minmax = MinMaxScaler()\n",
    "total = np.array(train['현본사소속재택근무자수'])\n",
    "total = total.reshape(-1, 1)\n",
    "minmax.fit(total)\n",
    "total = minmax.transform(total)\n",
    "total = pd.DataFrame(total, columns=['현본사소속재택근무자수_scale'])\n",
    "train = pd.merge(train, total, left_index=True, right_index=True, how='left')\n",
    "\n",
    "total_test = np.array(test['현본사소속재택근무자수'])\n",
    "total_test = total_test.reshape(-1, 1)\n",
    "total_test = minmax.transform(total_test)\n",
    "total_test = pd.DataFrame(total_test, columns=['현본사소속재택근무자수_scale'])\n",
    "test = pd.merge(test, total_test, left_index=True, right_index=True, how='left')\n"
   ]
  },
  {
   "cell_type": "code",
   "execution_count": 1616,
   "id": "37cd7c59",
   "metadata": {},
   "outputs": [
    {
     "data": {
      "image/png": "[encoded data removed]",
      "text/plain": [
       "<Figure size 432x288 with 1 Axes>"
      ]
     },
     "metadata": {},
     "output_type": "display_data"
    }
   ],
   "source": [
    "plt.hist(train['최고기온'])\n",
    "plt.show()"
   ]
  },
  {
   "cell_type": "code",
   "execution_count": 1617,
   "id": "5bc8d9d5",
   "metadata": {},
   "outputs": [
    {
     "data": {
      "image/png": "[encoded data removed]",
      "text/plain": [
       "<Figure size 432x288 with 1 Axes>"
      ]
     },
     "metadata": {},
     "output_type": "display_data"
    }
   ],
   "source": [
    "plt.plot(train['일자'],train['최고기온'])\n",
    "plt.show()"
   ]
  },
  {
   "cell_type": "code",
   "execution_count": 1618,
   "id": "8a0f8091",
   "metadata": {},
   "outputs": [],
   "source": [
    "# 전주시 최고기온 standardscaler(이상치가 그리 크지 않기 때문에 정규화시킴)\n",
    "\n",
    "from sklearn.preprocessing import StandardScaler\n",
    "\n",
    "minmax = StandardScaler()\n",
    "total = np.array(train['최고기온'])\n",
    "total = total.reshape(-1, 1)\n",
    "minmax.fit(total)\n",
    "total = minmax.transform(total)\n",
    "total = pd.DataFrame(total, columns=['최고기온_scale'])\n",
    "train = pd.merge(train, total, left_index=True, right_index=True, how='left')\n",
    "\n",
    "total_test = np.array(test['최고기온'])\n",
    "total_test = total_test.reshape(-1, 1)\n",
    "total_test = minmax.transform(total_test)\n",
    "total_test = pd.DataFrame(total_test, columns=['최고기온_scale'])\n",
    "test = pd.merge(test, total_test, left_index=True, right_index=True, how='left')"
   ]
  },
  {
   "cell_type": "code",
   "execution_count": 1619,
   "id": "b5837cba",
   "metadata": {},
   "outputs": [
    {
     "data": {
      "image/png": "[encoded data removed]",
      "text/plain": [
       "<Figure size 432x288 with 1 Axes>"
      ]
     },
     "metadata": {},
     "output_type": "display_data"
    }
   ],
   "source": [
    "plt.hist(train['본사휴가자수'])\n",
    "plt.show()"
   ]
  },
  {
   "cell_type": "code",
   "execution_count": 1620,
   "id": "99868975",
   "metadata": {},
   "outputs": [],
   "source": [
    "train['본사휴가자수_log'] = np.log1p(train['본사휴가자수'])\n",
    "test['본사휴가자수_log'] = np.log1p(test['본사휴가자수'])"
   ]
  },
  {
   "cell_type": "code",
   "execution_count": 1621,
   "id": "9c77b34b",
   "metadata": {},
   "outputs": [],
   "source": [
    "# 본사 정원수 minmax scale 하기\n",
    "from sklearn.preprocessing import StandardScaler\n",
    "\n",
    "minmax = StandardScaler()\n",
    "total = np.array(train['출근'])\n",
    "total = total.reshape(-1, 1)\n",
    "minmax.fit(total)\n",
    "total = minmax.transform(total)\n",
    "total = pd.DataFrame(total, columns=['출근_scale'])\n",
    "train = pd.merge(train, total, left_index=True, right_index=True, how='left')\n",
    "train.rename(columns={\"출근_scale_x\":\"출근\"}, inplace = True)\n",
    "\n",
    "total_test = np.array(test['출근'])\n",
    "total_test = total_test.reshape(-1, 1)\n",
    "total_test = minmax.transform(total_test)\n",
    "total_test = pd.DataFrame(total_test, columns=['출근_scale'])\n",
    "test = pd.merge(test, total_test, left_index=True, right_index=True, how='left')\n",
    "test.rename(columns={\"출근_scale_x\":\"출근\"}, inplace = True)\n",
    "\n",
    "\n",
    "# 본사 휴가자수 minmax scale 하기\n",
    "from sklearn.preprocessing import StandardScaler\n",
    "\n",
    "minmax = StandardScaler()\n",
    "total = np.array(train['본사휴가자수_log'])\n",
    "total = total.reshape(-1, 1)\n",
    "minmax.fit(total)\n",
    "total = minmax.transform(total)\n",
    "total = pd.DataFrame(total, columns=['본사휴가자수_log_scale'])\n",
    "train = pd.merge(train, total, left_index=True, right_index=True, how='left')\n",
    "train.rename(columns={\"본사휴가자수_log_scale_x\":\"본사휴가자수_log_scale\"}, inplace = True)\n",
    "\n",
    "total_test = np.array(test['본사휴가자수_log'])\n",
    "total_test = total_test.reshape(-1, 1)\n",
    "total_test = minmax.transform(total_test)\n",
    "total_test = pd.DataFrame(total_test, columns=['본사휴가자수_log_scale'])\n",
    "test = pd.merge(test, total_test, left_index=True, right_index=True, how='left')\n",
    "test.rename(columns={\"본사휴가자수_log_scale_x\":\"본사휴가자수_log_scale\"}, inplace = True)\n",
    "\n",
    "# 본사출장자수 minmax scale 하기\n",
    "from sklearn.preprocessing import StandardScaler\n",
    "\n",
    "minmax = StandardScaler()\n",
    "total = np.array(train['본사출장자수'])\n",
    "total = total.reshape(-1, 1)\n",
    "minmax.fit(total)\n",
    "total = minmax.transform(total)\n",
    "total = pd.DataFrame(total, columns=['본사출장자수_scale'])\n",
    "train = pd.merge(train, total, left_index=True, right_index=True, how='left')\n",
    "train.rename(columns={\"본사출장자수_scale_x\":\"본사출장자수_scale\"}, inplace = True)\n",
    "\n",
    "total_test = np.array(test['본사출장자수'])\n",
    "total_test = total_test.reshape(-1, 1)\n",
    "total_test = minmax.transform(total_test)\n",
    "total_test = pd.DataFrame(total_test, columns=['본사출장자수_scale'])\n",
    "test = pd.merge(test, total_test, left_index=True, right_index=True, how='left')\n",
    "test.rename(columns={\"본사출장자수_scale_x\":\"본사출장자수_scale\"}, inplace = True)\n",
    "\n",
    "# 본사시간외근무명령서승인건수 minmax scale 하기\n",
    "from sklearn.preprocessing import StandardScaler\n",
    "\n",
    "minmax = StandardScaler()\n",
    "total = np.array(train['본사시간외근무명령서승인건수'])\n",
    "total = total.reshape(-1, 1)\n",
    "minmax.fit(total)\n",
    "total = minmax.transform(total)\n",
    "total = pd.DataFrame(total, columns=['본사시간외근무명령서승인건수_scale'])\n",
    "train = pd.merge(train, total, left_index=True, right_index=True, how='left')\n",
    "train.rename(columns={\"본사시간외근무명령서승인건수_scale_x\":\"본사시간외근무명령서승인건수_scale\"}, inplace = True)\n",
    "\n",
    "total_test = np.array(test['본사시간외근무명령서승인건수'])\n",
    "total_test = total_test.reshape(-1, 1)\n",
    "total_test = minmax.transform(total_test)\n",
    "total_test = pd.DataFrame(total_test, columns=['본사시간외근무명령서승인건수_scale'])\n",
    "test = pd.merge(test, total_test, left_index=True, right_index=True, how='left')\n",
    "test.rename(columns={\"본사시간외근무명령서승인건수_scale_x\":\"본사시간외근무명령서승인건수_scale\"}, inplace = True)\n",
    "\n"
   ]
  },
  {
   "cell_type": "code",
   "execution_count": 1622,
   "id": "dc5e77e6",
   "metadata": {},
   "outputs": [],
   "source": [
    "# corr 파일에서 본 상관계수가 높은 변수 만들어내기\n",
    "\n",
    "train['휴가ls2시간외s'] = (train['본사휴가자수_log_scale'] ** 2) * (train['본사시간외근무명령서승인건수_scale'])\n",
    "train['최고기온s2시간외s'] = (train['최고기온_scale'] ** 2) * (train['본사시간외근무명령서승인건수_scale'])\n",
    "train['시간외s3'] = (train['본사시간외근무명령서승인건수_scale']) ** 3\n",
    "train['출장자수s2시간외s'] = (train['본사출장자수_scale'] ** 2) * (train['본사시간외근무명령서승인건수_scale'])\n",
    "train['출근s2시간외s'] = (train['출근_scale'] ** 2) * (train['본사시간외근무명령서승인건수_scale'])\n",
    "\n",
    "test['휴가ls2시간외s'] = (test['본사휴가자수_log_scale'] ** 2) * (test['본사시간외근무명령서승인건수_scale'])\n",
    "test['최고기온s2시간외s'] = (test['최고기온_scale'] ** 2) * (test['본사시간외근무명령서승인건수_scale'])\n",
    "test['시간외s3'] = (test['본사시간외근무명령서승인건수_scale']) ** 3\n",
    "test['출장자수s2시간외s'] = (test['본사출장자수_scale'] ** 2) * (test['본사시간외근무명령서승인건수_scale'])\n",
    "test['출근s2시간외s'] = (test['출근_scale'] ** 2) * (test['본사시간외근무명령서승인건수_scale'])\n"
   ]
  },
  {
   "cell_type": "code",
   "execution_count": 1623,
   "id": "72372540",
   "metadata": {},
   "outputs": [
    {
     "data": {
      "image/png": "[encoded data removed]",
      "text/plain": [
       "<Figure size 432x288 with 1 Axes>"
      ]
     },
     "metadata": {},
     "output_type": "display_data"
    }
   ],
   "source": [
    "sns.boxplot(x='요일', y='중식계', data=train)\n",
    "plt.show()"
   ]
  },
  {
   "cell_type": "code",
   "execution_count": 1624,
   "id": "71d42828",
   "metadata": {
    "scrolled": true
   },
   "outputs": [
    {
     "data": {
      "text/plain": [
       "{'whiskers': [<matplotlib.lines.Line2D at 0x7fccfd0ad910>,\n",
       "  <matplotlib.lines.Line2D at 0x7fccfd0adca0>],\n",
       " 'caps': [<matplotlib.lines.Line2D at 0x7fccfd60b070>,\n",
       "  <matplotlib.lines.Line2D at 0x7fccfd60b400>],\n",
       " 'boxes': [<matplotlib.lines.Line2D at 0x7fccfd0ad580>],\n",
       " 'medians': [<matplotlib.lines.Line2D at 0x7fccfd60b790>],\n",
       " 'fliers': [<matplotlib.lines.Line2D at 0x7fccfd60bb20>],\n",
       " 'means': []}"
      ]
     },
     "execution_count": 1624,
     "metadata": {},
     "output_type": "execute_result"
    },
    {
     "data": {
      "image/png": "[encoded data removed]",
      "text/plain": [
       "<Figure size 432x288 with 3 Axes>"
      ]
     },
     "metadata": {},
     "output_type": "display_data"
    }
   ],
   "source": [
    "# 이상치제거\n",
    "plt.subplot(1,3,1)\n",
    "plt.boxplot(train.최고기온)\n",
    "plt.subplot(1,3,2)\n",
    "plt.boxplot(train.확진자수_log)\n",
    "plt.subplot(1,3,3)\n",
    "plt.boxplot(train.본사휴가자수_log)"
   ]
  },
  {
   "cell_type": "code",
   "execution_count": 1625,
   "id": "eab8bd13",
   "metadata": {},
   "outputs": [
    {
     "data": {
      "text/plain": [
       "<AxesSubplot:xlabel='요일', ylabel='본사시간외근무명령서승인건수'>"
      ]
     },
     "execution_count": 1625,
     "metadata": {},
     "output_type": "execute_result"
    },
    {
     "data": {
      "image/png": "[encoded data removed]",
      "text/plain": [
       "<Figure size 432x288 with 1 Axes>"
      ]
     },
     "metadata": {},
     "output_type": "display_data"
    }
   ],
   "source": [
    "sns.boxplot(x='요일', y='본사시간외근무명령서승인건수', data = train)"
   ]
  },
  {
   "cell_type": "code",
   "execution_count": 1626,
   "id": "66400e89",
   "metadata": {},
   "outputs": [
    {
     "data": {
      "text/plain": [
       "{'whiskers': [<matplotlib.lines.Line2D at 0x7fccfd68fa60>,\n",
       "  <matplotlib.lines.Line2D at 0x7fccfd68fc70>],\n",
       " 'caps': [<matplotlib.lines.Line2D at 0x7fccfb3d9d90>,\n",
       "  <matplotlib.lines.Line2D at 0x7fccfd689c70>],\n",
       " 'boxes': [<matplotlib.lines.Line2D at 0x7fccfd68f310>],\n",
       " 'medians': [<matplotlib.lines.Line2D at 0x7fccfd689130>],\n",
       " 'fliers': [<matplotlib.lines.Line2D at 0x7fccfd6892e0>],\n",
       " 'means': []}"
      ]
     },
     "execution_count": 1626,
     "metadata": {},
     "output_type": "execute_result"
    },
    {
     "data": {
      "image/png": "[encoded data removed]",
      "text/plain": [
       "<Figure size 432x288 with 2 Axes>"
      ]
     },
     "metadata": {},
     "output_type": "display_data"
    }
   ],
   "source": [
    "plt.subplot(1,2,1)\n",
    "plt.boxplot(train.본사출장자수)\n",
    "plt.subplot(1,2,2)\n",
    "plt.boxplot(train.출근)"
   ]
  },
  {
   "cell_type": "code",
   "execution_count": 1627,
   "id": "dbab8db8",
   "metadata": {},
   "outputs": [
    {
     "data": {
      "image/png": "[encoded data removed]",
      "text/plain": [
       "<Figure size 432x288 with 1 Axes>"
      ]
     },
     "metadata": {},
     "output_type": "display_data"
    }
   ],
   "source": [
    "# IQR을 사용해서 이상치 제거하기\n",
    "sns.boxplot(x='요일', y='본사시간외근무명령서승인건수', data=train)\n",
    "\n",
    "# 월\n",
    "iqr = np.quantile(train[train['요일'] == 0].본사시간외근무명령서승인건수, 0.75) - np.quantile(train[train['요일'] == 0].본사시간외근무명령서승인건수,\n",
    "                                                                              0.25)\n",
    "iqr * 1.5\n",
    "upper = np.quantile(train[train['요일'] == 0].본사시간외근무명령서승인건수, 0.75) + iqr * 1.5\n",
    "lower = np.quantile(train[train['요일'] == 0].본사시간외근무명령서승인건수, 0.25) - iqr * 1.5\n",
    "mask_time = (train[train['요일'] == 0].본사시간외근무명령서승인건수 > upper) | (train[train['요일'] == 0].본사시간외근무명령서승인건수 < lower)\n",
    "train_outliers = train[train['요일'] == 0][mask_time]\n",
    "List = list(train_outliers.index)\n",
    "List  # 705 실제 train 데이터에서 엑셀 기준 707\n",
    "\n",
    "for i in List:\n",
    "    train.drop(index=i, inplace=True)\n",
    "\n",
    "# 화 (실제로 예측해야할 데이터들이 화요일에 야근이 많다 따라서 크다고 여겨지는 이상치는 이상치가 아니다)\n",
    "iqr = np.quantile(train[train['요일'] == 1].본사시간외근무명령서승인건수, 0.75) - np.quantile(train[train['요일'] == 1].본사시간외근무명령서승인건수,\n",
    "                                                                              0.25)\n",
    "iqr * 1.5\n",
    "upper = np.quantile(train[train['요일'] == 1].본사시간외근무명령서승인건수, 0.75) + iqr * 1.5\n",
    "lower = np.quantile(train[train['요일'] == 1].본사시간외근무명령서승인건수, 0.25) - iqr * 1.5\n",
    "mask_time = (train[train['요일'] == 1].본사시간외근무명령서승인건수 < lower)\n",
    "train_outliers = train[train['요일'] == 1][mask_time]\n",
    "List = list(train_outliers.index)\n",
    "List  # 152, 163, 223, 453*, 467, 951, 955, 1165*, 1170*, 1175* *별표는 큰 이상치\n",
    "\n",
    "for i in List:\n",
    "    train.drop(index=i, inplace=True)\n",
    "\n",
    "# 수\n",
    "iqr = np.quantile(train[train['요일'] == 2].본사시간외근무명령서승인건수, 0.75) - np.quantile(train[train['요일'] == 2].본사시간외근무명령서승인건수,\n",
    "                                                                              0.25)\n",
    "iqr * 1.5\n",
    "upper = np.quantile(train[train['요일'] == 2].본사시간외근무명령서승인건수, 0.75) + iqr * 1.5\n",
    "lower = np.quantile(train[train['요일'] == 2].본사시간외근무명령서승인건수, 0.25) - iqr * 1.5\n",
    "mask_time = (train[train['요일'] == 2].본사시간외근무명령서승인건수 > upper) | (train[train['요일'] == 2].본사시간외근무명령서승인건수 < lower)\n",
    "train_outliers = train[train['요일'] == 2][mask_time]\n",
    "List = list(train_outliers.index)\n",
    "List  # 세자리, 네자리 수인 2,9,14,18 만 지우겠다.\n",
    "\n",
    "train.drop(index=2, inplace=True)\n",
    "train.drop(index=18, inplace=True)\n",
    "train.drop(index=652, inplace=True)\n",
    "train.drop(index=894, inplace=True)\n",
    "\n",
    "# 목\n",
    "iqr = np.quantile(train[train['요일'] == 3].본사시간외근무명령서승인건수, 0.75) - np.quantile(train[train['요일'] == 3].본사시간외근무명령서승인건수,\n",
    "                                                                              0.25)\n",
    "iqr * 1.5\n",
    "upper = np.quantile(train[train['요일'] == 3].본사시간외근무명령서승인건수, 0.75) + iqr * 1.5\n",
    "lower = np.quantile(train[train['요일'] == 3].본사시간외근무명령서승인건수, 0.25) - iqr * 1.5\n",
    "mask_time = (train[train['요일'] == 3].본사시간외근무명령서승인건수 < lower)\n",
    "train_outliers = train[train['요일'] == 3][mask_time]\n",
    "List = list(train_outliers.index)  # TESTSET에 746 정도가 있기 때문에 매우 작은 것과 800 이상의 점 두개를 지운다.\n",
    "List\n",
    "\n",
    "for i in List:\n",
    "    train.drop(index=i, inplace=True)\n",
    "\n",
    "mask_time = (train[train['요일'] == 3].본사시간외근무명령서승인건수 > upper)\n",
    "train_outliers = train[train['요일'] == 3][mask_time]\n",
    "List = list(train_outliers.index)  # TESTSET에 746 정도가 있기 때문에 매우 작은 것과 800 이상의 점 두개를 지운다.\n",
    "List  # 415, 1137\n",
    "\n",
    "train.drop(index=415, inplace=True)\n",
    "train.drop(index=1137, inplace=True)\n",
    "\n",
    "# 금\n",
    "iqr = np.quantile(train[train['요일'] == 4].본사시간외근무명령서승인건수, 0.75) - np.quantile(train[train['요일'] == 4].본사시간외근무명령서승인건수,\n",
    "                                                                              0.25)\n",
    "iqr * 1.5\n",
    "upper = np.quantile(train[train['요일'] == 4].본사시간외근무명령서승인건수, 0.75) + iqr * 1.5\n",
    "lower = np.quantile(train[train['요일'] == 4].본사시간외근무명령서승인건수, 0.25) - iqr * 1.5\n",
    "mask_time = (train[train['요일'] == 4].본사시간외근무명령서승인건수 > upper) | (train[train['요일'] == 4].본사시간외근무명령서승인건수 < lower)\n",
    "train_outliers = train[train['요일'] == 4][mask_time]\n",
    "List = list(train_outliers.index)\n",
    "List  # 400이상인 895번 index만 삭제한다.\n",
    "\n",
    "train.drop(index=895, inplace=True)\n",
    "\n",
    "train_lunch = train\n",
    "train_dinner = train\n",
    "test_lunch = test\n",
    "test_dinner = test\n",
    "\n",
    "# train dinner에서 결측치 이상치 제거하기\n",
    "\n",
    "mask_oo = train_dinner['일자'] != '2017-09-27'\n",
    "train_dinner = train_dinner[mask_oo]\n",
    "mask_ooo = train_dinner['일자'] != '2018-02-14'\n",
    "train_dinner = train_dinner[mask_ooo]\n",
    "train_dinner\n",
    "\n",
    "mask_0 = train_dinner['석식계'] != 0\n",
    "train_dinner = train_dinner[mask_0]\n",
    "train_dinner\n",
    "\n",
    "mask_0 = train_dinner['석식계']!=0\n",
    "train_dinner = train_dinner[mask_0]\n",
    "train_dinner\n",
    " \n",
    "train_dinner['야근제외석식'] = train_dinner['석식계']-train_dinner['본사시간외근무명령서승인건수']\n",
    "#plt.plot(train_dinner.index, train_dinner.야근제외석식)\n",
    " \n",
    "train_dinner['석식계'].skew()\n",
    "train_dinner['석식계'].kurt()\n",
    "#plt.hist(train_dinner['석식계'], bins=15, alpha=0.5)\n",
    " \n",
    " \n",
    " \n",
    "#월화목/ 수금 분리\n",
    "\n",
    "mask_day = (train_dinner['요일']==0) |  (train_dinner['요일']==1) | (train_dinner['요일']==3)  \n",
    "train_dinner_mtt = train_dinner[mask_day]\n",
    " \n",
    "mask_day = (train_dinner['요일']==2) |  (train_dinner['요일']==4)   \n",
    "train_dinner_wf = train_dinner[mask_day]\n",
    "\n",
    "mask_day = (test_dinner['요일']==0) |  (test_dinner['요일']==1) | (test_dinner['요일']==3)  \n",
    "test_dinner_mtt = test_dinner[mask_day]\n",
    " \n",
    "mask_day = (test_dinner['요일']==2) |  (test_dinner['요일']==4)   \n",
    "test_dinner_wf = test_dinner[mask_day]\n"
   ]
  },
  {
   "cell_type": "code",
   "execution_count": null,
   "id": "7868d80a",
   "metadata": {},
   "outputs": [],
   "source": []
  },
  {
   "cell_type": "code",
   "execution_count": 1628,
   "id": "2819ed2a",
   "metadata": {},
   "outputs": [
    {
     "data": {
      "text/plain": [
       "Index(['일자', '요일', '본사정원수', '본사휴가자수', '본사출장자수', '본사시간외근무명령서승인건수',\n",
       "       '현본사소속재택근무자수', '조식메뉴', '중식메뉴', '석식메뉴', '중식계', '석식계', '년', '월', '일', '주',\n",
       "       '출근', '휴가비율', '출장비율', '야근비율', '재택비율', '출장휴가재택비율', 'TF', '최고기온',\n",
       "       'overwork', 'home', '공휴일전후', 'covid', 'culture', 'alcho', '확진자수',\n",
       "       '확진자수_log', '확진자수_log_scale', '현본사소속재택근무자수_scale', '최고기온_scale',\n",
       "       '본사휴가자수_log', '출근_scale', '본사휴가자수_log_scale', '본사출장자수_scale',\n",
       "       '본사시간외근무명령서승인건수_scale', '휴가ls2시간외s', '최고기온s2시간외s', '시간외s3',\n",
       "       '출장자수s2시간외s', '출근s2시간외s'],\n",
       "      dtype='object')"
      ]
     },
     "execution_count": 1628,
     "metadata": {},
     "output_type": "execute_result"
    }
   ],
   "source": [
    "train.columns"
   ]
  },
  {
   "cell_type": "code",
   "execution_count": 1629,
   "id": "d2b6bf6c",
   "metadata": {},
   "outputs": [],
   "source": [
    "#Catboost 모델 적합"
   ]
  },
  {
   "cell_type": "code",
   "execution_count": 1630,
   "id": "90141ee0",
   "metadata": {},
   "outputs": [],
   "source": [
    "from catboost import CatBoostRegressor\n",
    "from imblearn.over_sampling import SMOTE"
   ]
  },
  {
   "cell_type": "markdown",
   "id": "f4f9abbe",
   "metadata": {},
   "source": [
    "## oversampling"
   ]
  },
  {
   "cell_type": "code",
   "execution_count": 1631,
   "id": "ed1b6e60",
   "metadata": {},
   "outputs": [],
   "source": [
    "# 2020년도 데이터를 증폭시켜서 비중을 비슷하게 만든 다음 21년도를 예측해보자.\n",
    "\n",
    "# 제일 마지막 case만 round를 실제로 해준 것과 같다.\n",
    "\n",
    "# TF 값을 지웠다.\n",
    "\n",
    "\n",
    "#cc2 = train_lunch[[ '본사휴가자수_log_scale', '본사출장자수_scale' ,'최고기온_scale',\n",
    " #                   '휴가ls2시간외s', '시간외s3' ,'출장자수s2시간외s' ,'현본사소속재택근무자수_scale' ,'확진자수_log_scale',\n",
    "  #                  '본사시간외근무명령서승인건수_scale' ,'최고기온s2시간외s' ,'요일' ,'공휴일전후', '월' ,'중식계']].iloc[:1169]\n",
    "\n",
    "\n",
    "cc2 = train_lunch[[ '본사휴가자수_log_scale', '본사출장자수_scale' ,'최고기온_scale',\n",
    "                    '휴가ls2시간외s' ,'현본사소속재택근무자수_scale' ,'확진자수_log_scale'\n",
    "                     ,'최고기온s2시간외s' ,'요일' ,'공휴일전후', '월' ,'중식계']].iloc[:1169]\n",
    "\n",
    "train_lunch_home = train_lunch[['home']].iloc[:1169]\n",
    "train_lunch_home = train_lunch_home['home'].astype('category')\n"
   ]
  },
  {
   "cell_type": "code",
   "execution_count": 1632,
   "id": "0f995a17",
   "metadata": {},
   "outputs": [],
   "source": [
    "oversample = SMOTE()\n",
    "X, y = oversample.fit_resample(cc2, train_lunch_home.ravel())"
   ]
  },
  {
   "cell_type": "code",
   "execution_count": 1633,
   "id": "2250a1cb",
   "metadata": {},
   "outputs": [],
   "source": [
    "cc4_total =pd.DataFrame(X)\n",
    "cc4_total.fillna(method='ffill')\n",
    "cc5_total =cc4_total.iloc[: ,-1]\n",
    "cc4_total_cut = cc4_total.iloc[: ,0:cc2.shape[1]-1]\n",
    "\n",
    "\n",
    "cc4_total['요일'] = cc4_total['요일'].round()\n",
    "cc4_total['공휴일전후'] = cc4_total['공휴일전후'].round()\n",
    "cc4_total['월'] = cc4_total['월'].round()\n",
    "#cc4_total['TF'] = cc4_total['TF'].round()\n",
    "\n",
    "cc4_total_cut['요일'] = cc4_total_cut['요일'].round()\n",
    "cc4_total_cut['공휴일전후'] = cc4_total_cut['공휴일전후'].round()\n",
    "cc4_total_cut['월'] = cc4_total_cut['월'].round()\n",
    "#cc4_total_cut['TF'] = cc4_total_cut['TF'].round()\n",
    "\n",
    "#cc4_1 = train_lunch[[ '본사휴가자수_log_scale', '본사출장자수_scale' ,'최고기온_scale',\n",
    "#                    '휴가ls2시간외s', '시간외s3' ,'출장자수s2시간외s' ,'현본사소속재택근무자수_scale' ,'확진자수_log_scale',\n",
    "#                    '본사시간외근무명령서승인건수_scale' ,'최고기온s2시간외s' ,'요일' ,'공휴일전후', '월' ,'중식계']].iloc[1169:]\n",
    "\n",
    "#중요변수 탐색 이후 feature 변환\n",
    "\n",
    "cc4_1 = train_lunch[[ '본사휴가자수_log_scale', '본사출장자수_scale' ,'최고기온_scale',\n",
    "                    '휴가ls2시간외s', '현본사소속재택근무자수_scale' ,'확진자수_log_scale',\n",
    "                    '최고기온s2시간외s' ,'요일' ,'공휴일전후', '월' ,'중식계']].iloc[1169:]\n",
    "\n",
    "\n",
    "cc5_1 = train_lunch[['중식계']].iloc[1169:]"
   ]
  },
  {
   "cell_type": "code",
   "execution_count": 1634,
   "id": "b57e2a06",
   "metadata": {},
   "outputs": [
    {
     "data": {
      "text/html": [
       "<div>\n",
       "<style scoped>\n",
       "    .dataframe tbody tr th:only-of-type {\n",
       "        vertical-align: middle;\n",
       "    }\n",
       "\n",
       "    .dataframe tbody tr th {\n",
       "        vertical-align: top;\n",
       "    }\n",
       "\n",
       "    .dataframe thead th {\n",
       "        text-align: right;\n",
       "    }\n",
       "</style>\n",
       "<table border=\"1\" class=\"dataframe\">\n",
       "  <thead>\n",
       "    <tr style=\"text-align: right;\">\n",
       "      <th></th>\n",
       "      <th>본사휴가자수_log_scale</th>\n",
       "      <th>본사출장자수_scale</th>\n",
       "      <th>최고기온_scale</th>\n",
       "      <th>휴가ls2시간외s</th>\n",
       "      <th>현본사소속재택근무자수_scale</th>\n",
       "      <th>확진자수_log_scale</th>\n",
       "      <th>최고기온s2시간외s</th>\n",
       "      <th>요일</th>\n",
       "      <th>공휴일전후</th>\n",
       "      <th>월</th>\n",
       "    </tr>\n",
       "  </thead>\n",
       "  <tbody>\n",
       "    <tr>\n",
       "      <th>0</th>\n",
       "      <td>-1.301957</td>\n",
       "      <td>-2.094550</td>\n",
       "      <td>-1.700966</td>\n",
       "      <td>-0.248730</td>\n",
       "      <td>0.000000</td>\n",
       "      <td>-0.422069</td>\n",
       "      <td>-0.424546</td>\n",
       "      <td>0</td>\n",
       "      <td>0</td>\n",
       "      <td>2</td>\n",
       "    </tr>\n",
       "    <tr>\n",
       "      <th>1</th>\n",
       "      <td>-1.301957</td>\n",
       "      <td>-1.565987</td>\n",
       "      <td>-1.565977</td>\n",
       "      <td>0.309099</td>\n",
       "      <td>0.000000</td>\n",
       "      <td>-0.422069</td>\n",
       "      <td>0.447172</td>\n",
       "      <td>1</td>\n",
       "      <td>0</td>\n",
       "      <td>2</td>\n",
       "    </tr>\n",
       "    <tr>\n",
       "      <th>2</th>\n",
       "      <td>-0.227628</td>\n",
       "      <td>-0.485881</td>\n",
       "      <td>-1.397240</td>\n",
       "      <td>0.017027</td>\n",
       "      <td>0.000000</td>\n",
       "      <td>-0.422069</td>\n",
       "      <td>0.641537</td>\n",
       "      <td>3</td>\n",
       "      <td>0</td>\n",
       "      <td>2</td>\n",
       "    </tr>\n",
       "    <tr>\n",
       "      <th>3</th>\n",
       "      <td>1.226242</td>\n",
       "      <td>-1.382140</td>\n",
       "      <td>-1.183507</td>\n",
       "      <td>-1.466890</td>\n",
       "      <td>0.000000</td>\n",
       "      <td>-0.422069</td>\n",
       "      <td>-1.366429</td>\n",
       "      <td>4</td>\n",
       "      <td>1</td>\n",
       "      <td>2</td>\n",
       "    </tr>\n",
       "    <tr>\n",
       "      <th>4</th>\n",
       "      <td>1.701463</td>\n",
       "      <td>-2.255417</td>\n",
       "      <td>-0.643551</td>\n",
       "      <td>1.680537</td>\n",
       "      <td>0.000000</td>\n",
       "      <td>-0.422069</td>\n",
       "      <td>0.240419</td>\n",
       "      <td>3</td>\n",
       "      <td>2</td>\n",
       "      <td>2</td>\n",
       "    </tr>\n",
       "    <tr>\n",
       "      <th>...</th>\n",
       "      <td>...</td>\n",
       "      <td>...</td>\n",
       "      <td>...</td>\n",
       "      <td>...</td>\n",
       "      <td>...</td>\n",
       "      <td>...</td>\n",
       "      <td>...</td>\n",
       "      <td>...</td>\n",
       "      <td>...</td>\n",
       "      <td>...</td>\n",
       "    </tr>\n",
       "    <tr>\n",
       "      <th>1945</th>\n",
       "      <td>0.761991</td>\n",
       "      <td>-1.030486</td>\n",
       "      <td>0.520546</td>\n",
       "      <td>1.625887</td>\n",
       "      <td>0.261859</td>\n",
       "      <td>0.874231</td>\n",
       "      <td>0.477860</td>\n",
       "      <td>0</td>\n",
       "      <td>0</td>\n",
       "      <td>7</td>\n",
       "    </tr>\n",
       "    <tr>\n",
       "      <th>1946</th>\n",
       "      <td>-0.849882</td>\n",
       "      <td>0.594503</td>\n",
       "      <td>0.221476</td>\n",
       "      <td>-0.797603</td>\n",
       "      <td>0.320775</td>\n",
       "      <td>1.781273</td>\n",
       "      <td>-0.054268</td>\n",
       "      <td>2</td>\n",
       "      <td>0</td>\n",
       "      <td>10</td>\n",
       "    </tr>\n",
       "    <tr>\n",
       "      <th>1947</th>\n",
       "      <td>1.107905</td>\n",
       "      <td>-0.410822</td>\n",
       "      <td>0.445925</td>\n",
       "      <td>-1.587392</td>\n",
       "      <td>0.763537</td>\n",
       "      <td>2.889000</td>\n",
       "      <td>-0.983073</td>\n",
       "      <td>4</td>\n",
       "      <td>0</td>\n",
       "      <td>9</td>\n",
       "    </tr>\n",
       "    <tr>\n",
       "      <th>1948</th>\n",
       "      <td>0.919686</td>\n",
       "      <td>-0.964011</td>\n",
       "      <td>0.741511</td>\n",
       "      <td>1.547884</td>\n",
       "      <td>0.579918</td>\n",
       "      <td>3.326172</td>\n",
       "      <td>3.869547</td>\n",
       "      <td>1</td>\n",
       "      <td>0</td>\n",
       "      <td>9</td>\n",
       "    </tr>\n",
       "    <tr>\n",
       "      <th>1949</th>\n",
       "      <td>-0.086431</td>\n",
       "      <td>-0.463579</td>\n",
       "      <td>0.140350</td>\n",
       "      <td>0.031936</td>\n",
       "      <td>0.302118</td>\n",
       "      <td>1.099009</td>\n",
       "      <td>0.204942</td>\n",
       "      <td>0</td>\n",
       "      <td>0</td>\n",
       "      <td>6</td>\n",
       "    </tr>\n",
       "  </tbody>\n",
       "</table>\n",
       "<p>1950 rows × 10 columns</p>\n",
       "</div>"
      ],
      "text/plain": [
       "      본사휴가자수_log_scale  본사출장자수_scale  최고기온_scale  휴가ls2시간외s  \\\n",
       "0            -1.301957     -2.094550   -1.700966  -0.248730   \n",
       "1            -1.301957     -1.565987   -1.565977   0.309099   \n",
       "2            -0.227628     -0.485881   -1.397240   0.017027   \n",
       "3             1.226242     -1.382140   -1.183507  -1.466890   \n",
       "4             1.701463     -2.255417   -0.643551   1.680537   \n",
       "...                ...           ...         ...        ...   \n",
       "1945          0.761991     -1.030486    0.520546   1.625887   \n",
       "1946         -0.849882      0.594503    0.221476  -0.797603   \n",
       "1947          1.107905     -0.410822    0.445925  -1.587392   \n",
       "1948          0.919686     -0.964011    0.741511   1.547884   \n",
       "1949         -0.086431     -0.463579    0.140350   0.031936   \n",
       "\n",
       "      현본사소속재택근무자수_scale  확진자수_log_scale  최고기온s2시간외s  요일  공휴일전후   월  \n",
       "0              0.000000       -0.422069   -0.424546   0      0   2  \n",
       "1              0.000000       -0.422069    0.447172   1      0   2  \n",
       "2              0.000000       -0.422069    0.641537   3      0   2  \n",
       "3              0.000000       -0.422069   -1.366429   4      1   2  \n",
       "4              0.000000       -0.422069    0.240419   3      2   2  \n",
       "...                 ...             ...         ...  ..    ...  ..  \n",
       "1945           0.261859        0.874231    0.477860   0      0   7  \n",
       "1946           0.320775        1.781273   -0.054268   2      0  10  \n",
       "1947           0.763537        2.889000   -0.983073   4      0   9  \n",
       "1948           0.579918        3.326172    3.869547   1      0   9  \n",
       "1949           0.302118        1.099009    0.204942   0      0   6  \n",
       "\n",
       "[1950 rows x 10 columns]"
      ]
     },
     "execution_count": 1634,
     "metadata": {},
     "output_type": "execute_result"
    }
   ],
   "source": [
    "cc4_total_cut"
   ]
  },
  {
   "cell_type": "markdown",
   "id": "5247c702",
   "metadata": {},
   "source": [
    "## Catboost"
   ]
  },
  {
   "cell_type": "code",
   "execution_count": 1635,
   "id": "114b163d",
   "metadata": {},
   "outputs": [],
   "source": [
    "model = CatBoostRegressor(iterations=96, learning_rate=0.18, depth=4, l2_leaf_reg=30, subsample=1, eval_metric='MAE', od_type='IncToDec', random_seed=42, allow_writing_files=False)"
   ]
  },
  {
   "cell_type": "code",
   "execution_count": 1636,
   "id": "3be44ef5",
   "metadata": {},
   "outputs": [
    {
     "data": {
      "text/plain": [
       "<catboost.core.CatBoostRegressor at 0x7fccfba988b0>"
      ]
     },
     "execution_count": 1636,
     "metadata": {},
     "output_type": "execute_result"
    }
   ],
   "source": [
    "model.fit(cc4_total_cut ,cc5_total, verbose=0)"
   ]
  },
  {
   "cell_type": "code",
   "execution_count": 1637,
   "id": "2bf76cf0",
   "metadata": {},
   "outputs": [
    {
     "data": {
      "text/plain": [
       "0.8868007671351075"
      ]
     },
     "execution_count": 1637,
     "metadata": {},
     "output_type": "execute_result"
    }
   ],
   "source": [
    "from sklearn.model_selection import cross_val_score\n",
    "\n",
    "model.score(cc4_total_cut ,cc5_total)\n",
    "#cv_results = cross_val_score(model, cc4_total_cut ,cc5_total ,cv=10, scoring='neg_mean_absolute_error')"
   ]
  },
  {
   "cell_type": "code",
   "execution_count": 1638,
   "id": "348bbc45",
   "metadata": {},
   "outputs": [
    {
     "data": {
      "text/plain": [
       "요일                   43.182629\n",
       "본사출장자수_scale         19.479873\n",
       "본사휴가자수_log_scale     13.504173\n",
       "휴가ls2시간외s             4.920201\n",
       "현본사소속재택근무자수_scale     4.433095\n",
       "확진자수_log_scale        4.395589\n",
       "월                     2.857309\n",
       "최고기온_scale            2.808031\n",
       "최고기온s2시간외s            2.675028\n",
       "공휴일전후                 1.744071\n",
       "dtype: float64"
      ]
     },
     "execution_count": 1638,
     "metadata": {},
     "output_type": "execute_result"
    }
   ],
   "source": [
    "pd.Series(model.feature_importances_, index=cc4_total_cut.columns).sort_values(ascending=False)[:50]"
   ]
  },
  {
   "cell_type": "code",
   "execution_count": 1639,
   "id": "ee730779",
   "metadata": {},
   "outputs": [],
   "source": [
    "test_data_lunch = test_lunch[[ '본사휴가자수_log_scale', '본사출장자수_scale' ,'최고기온_scale',\n",
    "                    '휴가ls2시간외s', '현본사소속재택근무자수_scale' ,'확진자수_log_scale',\n",
    "                    '최고기온s2시간외s' ,'요일' ,'공휴일전후', '월']]"
   ]
  },
  {
   "cell_type": "code",
   "execution_count": 1640,
   "id": "d1079029",
   "metadata": {},
   "outputs": [],
   "source": [
    "lunch_prediction = model.predict(test_data_lunch)"
   ]
  },
  {
   "cell_type": "code",
   "execution_count": 1641,
   "id": "cff6027f",
   "metadata": {},
   "outputs": [
    {
     "data": {
      "text/plain": [
       "(1143, 46)"
      ]
     },
     "execution_count": 1641,
     "metadata": {},
     "output_type": "execute_result"
    }
   ],
   "source": [
    "train_dinner.shape"
   ]
  },
  {
   "cell_type": "code",
   "execution_count": 1642,
   "id": "349d5503",
   "metadata": {},
   "outputs": [],
   "source": [
    "cc2 = train_dinner[['본사출장자수_scale', '본사휴가자수_log_scale', '확진자수_log_scale',\n",
    "                    '본사시간외근무명령서승인건수_scale', '현본사소속재택근무자수_scale',\n",
    "                    '휴가ls2시간외s', '시간외s3',\n",
    "                    '월', '석식계']].iloc[:1133]\n",
    "\n",
    "train_dinner_home = train_dinner[['home']].iloc[:1133]\n",
    "train_dinner_home = train_dinner_home['home'].astype('category')\n",
    "\n",
    "from imblearn.over_sampling import SMOTE\n",
    "\n",
    "oversample = SMOTE()\n",
    "X, y = oversample.fit_resample(cc2, train_dinner_home.ravel())\n",
    "cc4_total = pd.DataFrame(X)\n",
    "cc4_total.fillna(method='ffill')\n",
    "cc5_total = cc4_total.iloc[:, -1]\n",
    "cc4_total_cut = cc4_total.iloc[:, 0:cc2.shape[1] - 1]\n"
   ]
  },
  {
   "cell_type": "code",
   "execution_count": 1643,
   "id": "4d431b1c",
   "metadata": {},
   "outputs": [],
   "source": [
    "#cc4_total_cut['요일'] = cc4_total_cut['요일'].round()\n",
    "#cc4_total_cut['공휴일전후'] = cc4_total_cut['공휴일전후'].round()\n",
    "cc4_total_cut['월'] = cc4_total_cut['월'].round()\n",
    "#cc4_total_cut['TF'] = cc4_total_cut['TF'].round()\n",
    "#cc4_total_cut['covid'] = cc4_total_cut['covid'].round()\n",
    "\n",
    "cc4_1 = train_dinner[['본사출장자수_scale', '본사휴가자수_log_scale', '확진자수_log_scale',\n",
    "                      '본사시간외근무명령서승인건수_scale', '현본사소속재택근무자수_scale',\n",
    "                      '휴가ls2시간외s', '시간외s3',\n",
    "                      '월', ]].iloc[1133:]\n",
    "\n",
    "cc5_1 = train_dinner[['석식계']].iloc[1133:]"
   ]
  },
  {
   "cell_type": "code",
   "execution_count": 1644,
   "id": "a12de045",
   "metadata": {},
   "outputs": [
    {
     "data": {
      "text/plain": [
       "<catboost.core.CatBoostRegressor at 0x7fccfc375d90>"
      ]
     },
     "execution_count": 1644,
     "metadata": {},
     "output_type": "execute_result"
    }
   ],
   "source": [
    "model2 = CatBoostRegressor(iterations=1700, learning_rate=0.01, depth=4, l2_leaf_reg=25, subsample=1, eval_metric='MAE',\n",
    "                          od_type='IncToDec', random_seed=42, allow_writing_files=False)\n",
    "model2.fit(cc4_total_cut, cc5_total, verbose=0)"
   ]
  },
  {
   "cell_type": "code",
   "execution_count": 1645,
   "id": "01747529",
   "metadata": {},
   "outputs": [],
   "source": [
    "from sklearn.model_selection import KFold\n",
    "\n",
    "model2.score(cc4_total_cut, cc5_total)\n",
    "kf = KFold(n_splits=5, shuffle=True, random_state=42)\n",
    "#cv_results = cross_val_score(model2, cc4_total_cut, cc5_total, cv=10)"
   ]
  },
  {
   "cell_type": "code",
   "execution_count": 1646,
   "id": "40b06e73",
   "metadata": {},
   "outputs": [
    {
     "data": {
      "text/plain": [
       "시간외s3                   19.240175\n",
       "현본사소속재택근무자수_scale       19.112134\n",
       "본사출장자수_scale            16.055103\n",
       "본사휴가자수_log_scale        13.096225\n",
       "본사시간외근무명령서승인건수_scale    13.063215\n",
       "월                        7.831224\n",
       "휴가ls2시간외s                6.113982\n",
       "확진자수_log_scale           5.487942\n",
       "dtype: float64"
      ]
     },
     "execution_count": 1646,
     "metadata": {},
     "output_type": "execute_result"
    }
   ],
   "source": [
    "pd.Series(model2.feature_importances_, index=cc4_total_cut.columns).sort_values(ascending=False)[:50]"
   ]
  },
  {
   "cell_type": "code",
   "execution_count": 1647,
   "id": "08138d66",
   "metadata": {},
   "outputs": [],
   "source": [
    "test_data_dinner = test_dinner[[ '본사출장자수_scale', '본사휴가자수_log_scale', '확진자수_log_scale',\n",
    "                      '본사시간외근무명령서승인건수_scale', '현본사소속재택근무자수_scale',\n",
    "                      '휴가ls2시간외s', '시간외s3',\n",
    "                      '월',]]"
   ]
  },
  {
   "cell_type": "code",
   "execution_count": 1648,
   "id": "0078989e",
   "metadata": {},
   "outputs": [],
   "source": [
    "dinner_prediction = model2.predict(test_data_dinner)"
   ]
  },
  {
   "cell_type": "markdown",
   "id": "8e68f7f8",
   "metadata": {},
   "source": [
    "## LGBM"
   ]
  },
  {
   "cell_type": "code",
   "execution_count": 1649,
   "id": "5ab93479",
   "metadata": {},
   "outputs": [],
   "source": [
    "cc2 = train_lunch[['본사출장자수_scale','본사휴가자수_log_scale','확진자수_log_scale',\n",
    "       '본사시간외근무명령서승인건수_scale','현본사소속재택근무자수_scale',\n",
    "       '휴가ls2시간외s', '시간외s3', '요일',\n",
    "      '월','중식계']].iloc[:1135]\n",
    "\n",
    "train_lunch_home = train_lunch[['home']].iloc[:1135]\n",
    "train_lunch_home = train_lunch_home['home'].astype('category')\n",
    " \n",
    "from imblearn.over_sampling import SMOTE\n",
    "oversample = SMOTE()\n",
    "X, y = oversample.fit_resample(cc2, train_lunch_home.ravel())\n",
    "cc4_total=pd.DataFrame(X)\n",
    "cc4_total.fillna(method='ffill')\n",
    "cc5_total=cc4_total.iloc[:,-1]\n",
    "cc4_total_cut = cc4_total.iloc[:,0:cc2.shape[1]-1]\n",
    " \n",
    "cc4_total_cut['요일'] = cc4_total_cut['요일'].round()\n",
    "\n",
    "\n",
    "cc4_1 = train_lunch[['본사출장자수_scale','본사휴가자수_log_scale','확진자수_log_scale',\n",
    "       '본사시간외근무명령서승인건수_scale','현본사소속재택근무자수_scale',\n",
    "       '휴가ls2시간외s', '시간외s3', '요일',\n",
    "      '월',]].iloc[1135:]\n",
    " \n",
    "cc5_1 = train_lunch[['중식계']].iloc[1135:]"
   ]
  },
  {
   "cell_type": "code",
   "execution_count": 1650,
   "id": "1b6a66a5",
   "metadata": {
    "scrolled": false
   },
   "outputs": [
    {
     "name": "stdout",
     "output_type": "stream",
     "text": [
      "[LightGBM] [Warning] Unknown parameter: n_estimator\n",
      "[LightGBM] [Warning] bagging_freq is set=9, subsample_freq=0 will be ignored. Current value: bagging_freq=9\n",
      "[LightGBM] [Warning] feature_fraction is set=1, colsample_bytree=1.0 will be ignored. Current value: feature_fraction=1\n",
      "[LightGBM] [Warning] bagging_fraction is set=1, subsample=1.0 will be ignored. Current value: bagging_fraction=1\n"
     ]
    },
    {
     "data": {
      "text/plain": [
       "LGBMRegressor(bagging_fraction=1, bagging_freq=9, feature_fraction=1,\n",
       "              is_training_metric=True, learning_rate=0.01, metric='mae',\n",
       "              n_estimator=20000, num_iterations=500, num_leaves=200,\n",
       "              objective='regression', seed=42)"
      ]
     },
     "execution_count": 1650,
     "metadata": {},
     "output_type": "execute_result"
    }
   ],
   "source": [
    "import lightgbm as lgb\n",
    "model3=lgb.LGBMRegressor(learning_rate= 0.01,\n",
    "          num_iterations=500,\n",
    "          n_estimator=20000,\n",
    "          max_depth= -1, \n",
    "          objective='regression', \n",
    "          metric='mae', \n",
    "          is_training_metric= True, \n",
    "          num_leaves= 200, \n",
    "          feature_fraction= 1, \n",
    "          bagging_fraction=1, \n",
    "          bagging_freq=9, \n",
    "          seed=42)\n",
    " \n",
    "model3.fit(cc4_total_cut,cc5_total, eval_set=[(cc4_1,cc5_1),(cc4_total_cut, cc5_total)], verbose=False)\n"
   ]
  },
  {
   "cell_type": "code",
   "execution_count": 1651,
   "id": "29709709",
   "metadata": {},
   "outputs": [
    {
     "data": {
      "text/plain": [
       "array([1128.90121181,  800.30275758,  782.19384258,  632.61545794,\n",
       "        448.75851398, 1123.2195181 ,  817.24609415,  790.90031219,\n",
       "        740.93155942,  461.35740149, 1126.90539389, 1005.01749116,\n",
       "        980.4361011 ,  910.79751997,  642.91532789, 1142.46572845,\n",
       "        977.35818269,  945.6838128 ,  884.97216699,  624.88315428,\n",
       "       1148.74686725,  963.21651059,  964.9334124 ,  824.87182422,\n",
       "        656.34461291, 1133.06612656,  978.2312853 ,  972.78290372,\n",
       "        923.92007442,  671.9023158 , 1047.4647799 ,  931.71218708,\n",
       "        850.96185462, 1216.08614956, 1019.09472726, 1008.28918791,\n",
       "        947.59892411,  807.30457454, 1128.21761397,  998.04927503,\n",
       "        982.62728609,  909.52580405,  797.5686576 , 1233.66849056,\n",
       "        982.44345859,  960.54435787,  848.09626757,  588.48326243,\n",
       "       1108.64827331,  965.4147084 ])"
      ]
     },
     "execution_count": 1651,
     "metadata": {},
     "output_type": "execute_result"
    }
   ],
   "source": [
    "model3.predict(cc4_1)"
   ]
  },
  {
   "cell_type": "code",
   "execution_count": 1652,
   "id": "59423ffc",
   "metadata": {},
   "outputs": [],
   "source": [
    "test_data_lunch_lgb = test_lunch[[ '본사출장자수_scale', '본사휴가자수_log_scale', '확진자수_log_scale',\n",
    "                      '본사시간외근무명령서승인건수_scale', '현본사소속재택근무자수_scale',\n",
    "                      '휴가ls2시간외s', '시간외s3', '요일',\n",
    "                      '월',]]"
   ]
  },
  {
   "cell_type": "code",
   "execution_count": 1653,
   "id": "1704321a",
   "metadata": {},
   "outputs": [],
   "source": [
    "cc2 = train_dinner[['본사출장자수_scale','본사휴가자수_log_scale','확진자수_log_scale',\n",
    "       '본사시간외근무명령서승인건수_scale','현본사소속재택근무자수_scale',\n",
    "       '휴가ls2시간외s', '시간외s3', '요일',\n",
    "      '월','석식계']].iloc[:1135]\n",
    " \n",
    "train_dinner_home = train_dinner[['home']].iloc[:1135]\n",
    "train_dinner_home = train_dinner_home['home'].astype('category')\n",
    " \n",
    "from imblearn.over_sampling import SMOTE\n",
    "oversample = SMOTE()\n",
    "X, y = oversample.fit_resample(cc2, train_dinner_home.ravel())\n",
    "cc4_total=pd.DataFrame(X)\n",
    "cc4_total.fillna(method='ffill')\n",
    "cc5_total=cc4_total.iloc[:,-1]\n",
    "cc4_total_cut = cc4_total.iloc[:,0:cc2.shape[1]-1]\n",
    " \n",
    "cc4_total_cut['요일'] = cc4_total_cut['요일'].round()\n",
    "#cc4_total_cut['공휴일전후'] = cc4_total_cut['공휴일전후'].round()\n",
    "#cc4_total_cut['월'] = cc4_total_cut['월'].round()\n",
    "#cc4_total_cut['TF'] = cc4_total_cut['TF'].round()\n",
    "#cc4_total_cut['covid'] = cc4_total_cut['covid'].round()"
   ]
  },
  {
   "cell_type": "code",
   "execution_count": 1654,
   "id": "35c7d40e",
   "metadata": {},
   "outputs": [],
   "source": [
    "cc4_1 = train_dinner[['본사출장자수_scale','본사휴가자수_log_scale','확진자수_log_scale',\n",
    "       '본사시간외근무명령서승인건수_scale','현본사소속재택근무자수_scale',\n",
    "       '휴가ls2시간외s', '시간외s3', '요일',\n",
    "      '월',]].iloc[1135:]\n",
    " \n",
    "cc5_1 = train_dinner[['석식계']].iloc[1135:]"
   ]
  },
  {
   "cell_type": "code",
   "execution_count": 1655,
   "id": "221fd31d",
   "metadata": {
    "scrolled": true
   },
   "outputs": [
    {
     "name": "stdout",
     "output_type": "stream",
     "text": [
      "[LightGBM] [Warning] Unknown parameter: n_estimator\n",
      "[LightGBM] [Warning] bagging_freq is set=9, subsample_freq=0 will be ignored. Current value: bagging_freq=9\n",
      "[LightGBM] [Warning] boosting is set=gbdt, boosting_type=gbdt will be ignored. Current value: boosting=gbdt\n",
      "[LightGBM] [Warning] feature_fraction is set=1, colsample_bytree=1.0 will be ignored. Current value: feature_fraction=1\n",
      "[LightGBM] [Warning] bagging_fraction is set=1, subsample=1.0 will be ignored. Current value: bagging_fraction=1\n",
      "[LightGBM] [Warning] Unknown parameter: n_estimator\n",
      "[LightGBM] [Warning] bagging_freq is set=9, subsample_freq=0 will be ignored. Current value: bagging_freq=9\n",
      "[LightGBM] [Warning] boosting is set=gbdt, boosting_type=gbdt will be ignored. Current value: boosting=gbdt\n",
      "[LightGBM] [Warning] feature_fraction is set=1, colsample_bytree=1.0 will be ignored. Current value: feature_fraction=1\n",
      "[LightGBM] [Warning] bagging_fraction is set=1, subsample=1.0 will be ignored. Current value: bagging_fraction=1\n",
      "[LightGBM] [Warning] Unknown parameter: n_estimator\n",
      "[LightGBM] [Warning] bagging_freq is set=9, subsample_freq=0 will be ignored. Current value: bagging_freq=9\n",
      "[LightGBM] [Warning] boosting is set=gbdt, boosting_type=gbdt will be ignored. Current value: boosting=gbdt\n",
      "[LightGBM] [Warning] feature_fraction is set=1, colsample_bytree=1.0 will be ignored. Current value: feature_fraction=1\n",
      "[LightGBM] [Warning] bagging_fraction is set=1, subsample=1.0 will be ignored. Current value: bagging_fraction=1\n",
      "[LightGBM] [Warning] Unknown parameter: n_estimator\n",
      "[LightGBM] [Warning] bagging_freq is set=9, subsample_freq=0 will be ignored. Current value: bagging_freq=9\n",
      "[LightGBM] [Warning] boosting is set=gbdt, boosting_type=gbdt will be ignored. Current value: boosting=gbdt\n",
      "[LightGBM] [Warning] feature_fraction is set=1, colsample_bytree=1.0 will be ignored. Current value: feature_fraction=1\n",
      "[LightGBM] [Warning] bagging_fraction is set=1, subsample=1.0 will be ignored. Current value: bagging_fraction=1\n",
      "[LightGBM] [Warning] Unknown parameter: n_estimator\n",
      "[LightGBM] [Warning] bagging_freq is set=9, subsample_freq=0 will be ignored. Current value: bagging_freq=9\n",
      "[LightGBM] [Warning] boosting is set=gbdt, boosting_type=gbdt will be ignored. Current value: boosting=gbdt\n",
      "[LightGBM] [Warning] feature_fraction is set=1, colsample_bytree=1.0 will be ignored. Current value: feature_fraction=1\n",
      "[LightGBM] [Warning] bagging_fraction is set=1, subsample=1.0 will be ignored. Current value: bagging_fraction=1\n",
      "[LightGBM] [Warning] Unknown parameter: n_estimator\n",
      "[LightGBM] [Warning] bagging_freq is set=9, subsample_freq=0 will be ignored. Current value: bagging_freq=9\n",
      "[LightGBM] [Warning] boosting is set=gbdt, boosting_type=gbdt will be ignored. Current value: boosting=gbdt\n",
      "[LightGBM] [Warning] feature_fraction is set=1, colsample_bytree=1.0 will be ignored. Current value: feature_fraction=1\n",
      "[LightGBM] [Warning] bagging_fraction is set=1, subsample=1.0 will be ignored. Current value: bagging_fraction=1\n",
      "기본 교차검증 점수 :  <built-in method mean of numpy.ndarray object at 0x7fccf9d2c4b0>\n",
      "[LightGBM] [Warning] Unknown parameter: n_estimator\n",
      "[LightGBM] [Warning] bagging_freq is set=9, subsample_freq=0 will be ignored. Current value: bagging_freq=9\n",
      "[LightGBM] [Warning] boosting is set=gbdt, boosting_type=gbdt will be ignored. Current value: boosting=gbdt\n",
      "[LightGBM] [Warning] feature_fraction is set=1, colsample_bytree=1.0 will be ignored. Current value: feature_fraction=1\n",
      "[LightGBM] [Warning] bagging_fraction is set=1, subsample=1.0 will be ignored. Current value: bagging_fraction=1\n"
     ]
    }
   ],
   "source": [
    "import lightgbm as lgb\n",
    "model4=lgb.LGBMRegressor(learning_rate= 0.01,\n",
    "          num_iterations=750,\n",
    "          n_estimator=20000,\n",
    "          max_depth= -1, \n",
    "          boosting= 'gbdt', \n",
    "          objective='regression', \n",
    "          metric='mae', \n",
    "          is_training_metric= True, \n",
    "          num_leaves= 200, \n",
    "          feature_fraction= 1, \n",
    "          bagging_fraction=1, \n",
    "          bagging_freq=9, \n",
    "          seed=42)\n",
    " \n",
    "model4.fit(cc4_total_cut,cc5_total, eval_set=[(cc4_1,cc5_1),(cc4_total_cut, cc5_total)] , verbose=False)\n",
    " \n",
    "model4.score(cc4_total_cut,cc5_total)\n",
    "basic_score=cross_val_score(model4,cc4_total_cut,cc5_total,cv=5, scoring='neg_mean_absolute_error')\n",
    "print('기본 교차검증 점수 : ', basic_score.mean)\n",
    "model4.fit(cc4_total_cut,cc5_total)\n",
    "prpr2=model4.predict(cc4_1)"
   ]
  },
  {
   "cell_type": "code",
   "execution_count": 1656,
   "id": "f26888b0",
   "metadata": {},
   "outputs": [],
   "source": [
    "test_data_dinner_lgb = test_dinner[[ '본사출장자수_scale', '본사휴가자수_log_scale', '확진자수_log_scale',\n",
    "                      '본사시간외근무명령서승인건수_scale', '현본사소속재택근무자수_scale',\n",
    "                      '휴가ls2시간외s', '시간외s3', '요일',\n",
    "                      '월',]]"
   ]
  },
  {
   "cell_type": "code",
   "execution_count": 1657,
   "id": "80017929",
   "metadata": {},
   "outputs": [],
   "source": [
    "lunch_prediction_lgb = model3.predict(test_data_lunch_lgb)"
   ]
  },
  {
   "cell_type": "code",
   "execution_count": 1658,
   "id": "fbb62bed",
   "metadata": {},
   "outputs": [],
   "source": [
    "dinner_prediction_lgb = model4.predict(test_data_dinner_lgb)"
   ]
  },
  {
   "cell_type": "code",
   "execution_count": 1659,
   "id": "d7dfd624",
   "metadata": {},
   "outputs": [],
   "source": [
    "submit = pd.read_csv('sample_submission.csv')"
   ]
  },
  {
   "cell_type": "markdown",
   "id": "56d38fcf",
   "metadata": {},
   "source": [
    "## Catboost & Lightgbm Ensemble"
   ]
  },
  {
   "cell_type": "code",
   "execution_count": 1660,
   "id": "be880d1e",
   "metadata": {},
   "outputs": [],
   "source": [
    "submit['중식계'] = lunch_prediction_lgb*0.2 + lunch_prediction*0.8\n",
    "submit['석식계'] = dinner_prediction_lgb*0.8+ dinner_prediction*0.2"
   ]
  },
  {
   "cell_type": "code",
   "execution_count": 1661,
   "id": "58f44fe4",
   "metadata": {},
   "outputs": [],
   "source": [
    "submit.to_csv('final.csv', index=False)"
   ]
  },
  {
   "cell_type": "code",
   "execution_count": null,
   "id": "0649be8e",
   "metadata": {},
   "outputs": [],
   "source": []
  }
 ],
 "metadata": {
  "kernelspec": {
   "display_name": "hwankam",
   "language": "python",
   "name": "hwankam"
  },
  "language_info": {
   "codemirror_mode": {
    "name": "ipython",
    "version": 3
   },
   "file_extension": ".py",
   "mimetype": "text/x-python",
   "name": "python",
   "nbconvert_exporter": "python",
   "pygments_lexer": "ipython3",
   "version": "3.9.7"
  }
 },
 "nbformat": 4,
 "nbformat_minor": 5
}
